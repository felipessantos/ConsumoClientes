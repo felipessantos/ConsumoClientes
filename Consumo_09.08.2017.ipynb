{
 "cells": [
  {
   "cell_type": "markdown",
   "metadata": {
    "collapsed": true
   },
   "source": [
    "# Treinando RandomForest"
   ]
  },
  {
   "cell_type": "code",
   "execution_count": 70,
   "metadata": {
    "collapsed": false
   },
   "outputs": [],
   "source": [
    "import pandas as pd\n",
    "from datetime import datetime, timedelta, date\n",
    "import numpy as np\n",
    "import csv\n",
    "import unidecode \n",
    "import pandas.core.algorithms as algos\n",
    "from scipy.stats import kendalltau   \n",
    "from funcoes_uteis import *\n",
    "from dateutil.relativedelta import relativedelta\n",
    "\n",
    "import sklearn\n",
    "from sklearn.preprocessing import LabelEncoder\n",
    "from sklearn.preprocessing import StandardScaler\n",
    "from sklearn.neighbors import KNeighborsClassifier\n",
    "from sklearn.ensemble import RandomForestClassifier\n",
    "from sklearn.model_selection import StratifiedKFold\n",
    "from sklearn.cross_validation import KFold, StratifiedKFold\n",
    "from sklearn.metrics import roc_auc_score, f1_score\n",
    "from sklearn.preprocessing import LabelEncoder"
   ]
  },
  {
   "cell_type": "code",
   "execution_count": 71,
   "metadata": {
    "collapsed": true
   },
   "outputs": [],
   "source": [
    "def diff_month(d1, d2):\n",
    "    return (d1.year - d2.year)*12 + d1.month - d2.month\n",
    "\n",
    "def periodicidade(x):\n",
    "    if x == 'Trienal':\n",
    "        return 36    \n",
    "    elif x == 'Anual':\n",
    "        return 12\n",
    "    elif x == 'Semestral':\n",
    "        return 6\n",
    "    elif x == 'Trimestral':\n",
    "        return 3\n",
    "    else: \n",
    "        return 1\n",
    "\n",
    "def marca_base(Perc, x):\n",
    "    if x >= Perc[(len(Perc)-1)]:\n",
    "        return len(Perc) +1\n",
    "    else:\n",
    "        for i in range(len(Perc)):\n",
    "            if x < Perc[i]:\n",
    "                return i + 1\n",
    "\n",
    "\n",
    "def cria_curva(percentiles, variavel):\n",
    "    Perc = list()\n",
    "    for i in range(len(percentiles)):\n",
    "        Perc.append(np.percentile(variavel, percentiles[i]))\n",
    "    return Perc    \n",
    "    \n"
   ]
  },
  {
   "cell_type": "code",
   "execution_count": 72,
   "metadata": {
    "collapsed": false
   },
   "outputs": [
    {
     "name": "stderr",
     "output_type": "stream",
     "text": [
      "D:\\Users\\felipe.santos\\AppData\\Local\\Continuum\\Anaconda3\\lib\\site-packages\\IPython\\core\\interactiveshell.py:2717: DtypeWarning: Columns (0) have mixed types. Specify dtype option on import or set low_memory=False.\n",
      "  interactivity=interactivity, compiler=compiler, result=result)\n"
     ]
    }
   ],
   "source": [
    "df_base = pd.read_csv('./Churn_Consumo_Recomendacao_17.07.2017.csv'\n",
    "                      , error_bad_lines = False\n",
    "                      , sep=';'\n",
    "                      , dtype= {7: str}\n",
    "                      , encoding='latin-1'\n",
    "                      , header = None)"
   ]
  },
  {
   "cell_type": "code",
   "execution_count": 73,
   "metadata": {
    "collapsed": false
   },
   "outputs": [],
   "source": [
    "s = ['Provisioning', 'cd_ChaveCliente', 'nr_PrecoMensal', 'ds_Periodicidade', 'Instalacao', \n",
    "     'Primeiro_Servico_LW', 'dt_Reativacao', 'fl_ServicoPai', 'id_GerenteConta', 'Servico', \n",
    "     'fl_Dev', 'Perfil', 'classificacao', 'Status', 'Data_Fim', 'Data_Desativacao']\n",
    "\n",
    "df_base.columns = s"
   ]
  },
  {
   "cell_type": "code",
   "execution_count": 74,
   "metadata": {
    "collapsed": false
   },
   "outputs": [],
   "source": [
    "col_datas = ['Data_Desativacao', 'Data_Fim', 'Instalacao', 'dt_Reativacao', 'Primeiro_Servico_LW']\n",
    "converte_datetime(df_base, col_datas)"
   ]
  },
  {
   "cell_type": "code",
   "execution_count": 75,
   "metadata": {
    "collapsed": false
   },
   "outputs": [],
   "source": [
    "df_base['Status'] = ['ativo' if s in ['Ativo', 'Atendido', 'Em ativação',\n",
    "                                      'Aguardando ativação'] else 'inativo'\n",
    "                     for s in df_base.Status]\n",
    "df_base = df_base[(df_base.nr_PrecoMensal != '0,00') & \n",
    "                  (df_base.Instalacao>= datetime(2014,1,1))].copy()\n",
    "df_base.sort_values(['Instalacao'], ascending= 1 ,inplace=True)\n",
    "df_base.drop_duplicates(['Provisioning'], keep='last', inplace= True)\n",
    "df_base['Data_Fim_flag'] = [1 if d_fim != datetime(1900,1,1) else 0 for d_fim in df_base.Data_Fim]\n",
    "df_base['Data_Desativacao_flag'] = [1 if f_des != datetime(1900,1,1) else 0 for f_des in df_base.Data_Desativacao]\n",
    "df_base['Data_Desativacao_flag'] = [1 if f_des != datetime(1900,1,1) else 0 for f_des in df_base.Data_Desativacao]\n",
    "df_base['Data_churn'] = df_base[['Data_Fim', 'Data_Desativacao']].min(axis = 1).astype('datetime64[ns]')\n",
    "df_base['Data_churn'] = [d_fim if ((d_des < d_rea < d_fim) & f_fim & f_des) else d_chu\n",
    "                              for d_des, d_rea, d_fim, f_fim, f_des, d_chu in \n",
    "                              zip(df_base.Data_Desativacao, df_base.dt_Reativacao, \n",
    "                                  df_base.Data_Fim, df_base.Data_Fim_flag, \n",
    "                                  df_base.Data_Desativacao_flag, df_base.Data_churn)]\n",
    "df_base['Data_churn_flag'] = [1 if d > datetime(1900, 1, 1) else 0 for d in df_base.Data_churn]\n",
    "df_base['Primeiro_Servico_LW_AnoMes'] = [datetime(d.year, d.month, 1) for d in df_base.Primeiro_Servico_LW]\n",
    "df_base['Instalacao_AnoMes'] = [datetime(d.year, d.month, 1) for d in df_base.Instalacao]\n",
    "df_base['Data_churn_AnoMes'] = [datetime(d.year, d.month, 1) for d in df_base.Data_churn]\n",
    "df_base['fl_ServicoPai'] = [1 if s in ['SIM', 'Sim', 'sim'] else 0 for s in df_base.fl_ServicoPai]\n",
    "df_base['fl_GerenteConta'] = [0 if s== 1 else 1 for s in df_base.id_GerenteConta]\n",
    "df_base['nr_PrecoMensal'] = [x.replace(',', '.') for x in df_base.nr_PrecoMensal]\n",
    "df_base['nr_PrecoMensal'] = df_base.nr_PrecoMensal.astype(float)\n",
    "df_base['MesesParaChurn'] = [diff_month(ch, ins) if ch > datetime(1900, 1, 1) else 0\n",
    "                           for ch, ins in  zip(df_base.Data_churn, df_base.Instalacao)]\n",
    "df_base['FlagChurn'] = [1 if d!= 0 else 0 for d in df_base.MesesParaChurn]"
   ]
  },
  {
   "cell_type": "code",
   "execution_count": 76,
   "metadata": {
    "collapsed": false
   },
   "outputs": [],
   "source": [
    "fim_janela_feature = df_base.Instalacao_AnoMes.max()+ relativedelta(months=-3)\n",
    "aux_janela_feature = fim_janela_feature+ relativedelta(months=-12)\n",
    "inicio_janela_booking = fim_janela_feature\n",
    "fim_janela_booking = fim_janela_feature+ relativedelta(months=3)"
   ]
  },
  {
   "cell_type": "code",
   "execution_count": 77,
   "metadata": {
    "collapsed": false
   },
   "outputs": [],
   "source": [
    "df_treino = df_base[(df_base.Instalacao_AnoMes < fim_janela_feature)].copy()"
   ]
  },
  {
   "cell_type": "code",
   "execution_count": 78,
   "metadata": {
    "collapsed": true
   },
   "outputs": [],
   "source": [
    "grade = pd.date_range(start=aux_janela_feature, end=df_treino.Instalacao_AnoMes.max(), freq='MS', normalize=True)"
   ]
  },
  {
   "cell_type": "code",
   "execution_count": 79,
   "metadata": {
    "collapsed": true
   },
   "outputs": [],
   "source": [
    "agg_dict = {'nr_PrecoMensal' : 'sum'}\n",
    "df_historico_valor = df_treino[(df_treino.nr_PrecoMensal> 0) & (df_treino.Instalacao_AnoMes >= aux_janela_feature)].groupby(['cd_ChaveCliente', 'Instalacao_AnoMes']).agg(agg_dict)\n",
    "novo_indice = [(x, y) for x in df_historico_valor.index.levels[0] for y in grade]\n",
    "novo_indice = pd.MultiIndex.from_tuples(novo_indice, names=df_historico_valor.index.names)\n",
    "df_historico_valor = df_historico_valor.reindex(novo_indice, fill_value=0)\n",
    "df_historico_valor = df_historico_valor.unstack(level=-1)\n",
    "df_historico_valor.columns = df_historico_valor.columns.droplevel()\n",
    "colunas = ['vlr_m-1','vlr_m-2','vlr_m-3','vlr_m-4','vlr_m-5','vlr_m-6','vlr_m-7','vlr_m-8','vlr_m-9','vlr_m-10','vlr_m-11','vlr_m-12'] \n",
    "df_historico_valor.columns = colunas\n",
    "df_historico_valor['vlr_trim-1'] = [v1+v2+v3 for v1,v2,v3 in zip\n",
    "                                    (df_historico_valor['vlr_m-1'], \n",
    "                                     df_historico_valor['vlr_m-2'],  \n",
    "                                     df_historico_valor['vlr_m-3'])]\n",
    "df_historico_valor['vlr_trim-2'] = [v1+v2+v3 for v1,v2,v3 in zip\n",
    "                                    (df_historico_valor['vlr_m-4'], \n",
    "                                     df_historico_valor['vlr_m-5'],  \n",
    "                                     df_historico_valor['vlr_m-6'])]\n",
    "df_historico_valor['vlr_trim-3'] = [v1+v2+v3 for v1,v2,v3 in zip\n",
    "                                    (df_historico_valor['vlr_m-7'], \n",
    "                                     df_historico_valor['vlr_m-8'],  \n",
    "                                     df_historico_valor['vlr_m-9'])]\n",
    "df_historico_valor['vlr_trim-4'] = [v1+v2+v3 for v1,v2,v3 in zip\n",
    "                                    (df_historico_valor['vlr_m-10'], \n",
    "                                     df_historico_valor['vlr_m-11'],  \n",
    "                                     df_historico_valor['vlr_m-12'])]\n",
    "df_historico_valor['vlr_ano'] = [v1+v2+v3+v4 for v1,v2,v3,v4 in zip\n",
    "                                    (df_historico_valor['vlr_trim-1'], \n",
    "                                     df_historico_valor['vlr_trim-2'],  \n",
    "                                     df_historico_valor['vlr_trim-3'],\n",
    "                                     df_historico_valor['vlr_trim-4'])]"
   ]
  },
  {
   "cell_type": "code",
   "execution_count": 80,
   "metadata": {
    "collapsed": false
   },
   "outputs": [],
   "source": [
    "agg_dict = {'Provisioning' : 'count'}\n",
    "df_historico_qtd = df_treino[df_treino.Instalacao_AnoMes >= aux_janela_feature].groupby(['cd_ChaveCliente', 'Instalacao_AnoMes']).agg(agg_dict)\n",
    "novo_indice = [(x, y) for x in df_historico_qtd.index.levels[0] for y in grade]\n",
    "novo_indice = pd.MultiIndex.from_tuples(novo_indice, names=df_historico_qtd.index.names)\n",
    "df_historico_qtd = df_historico_qtd.reindex(novo_indice, fill_value=0)\n",
    "df_historico_qtd = df_historico_qtd.unstack(level=-1)\n",
    "df_historico_qtd.columns = df_historico_qtd.columns.droplevel()\n",
    "colunas_ts = [c for c in df_historico_qtd.columns if isinstance(c, pd.tslib.Timestamp)]\n",
    "colunas = ['qtd_m-1','qtd_m-2','qtd_m-3','qtd_m-4','qtd_m-5','qtd_m-6',\n",
    "           'qtd_m-7','qtd_m-8','qtd_m-9','qtd_m-10','qtd_m-11','qtd_m-12'] \n",
    "df_historico_qtd.columns = colunas\n",
    "df_historico_qtd['qtd_trim-1'] = [q1+q2+q3 for q1,q2,q3 in zip\n",
    "                                  (df_historico_qtd['qtd_m-1'],\n",
    "                                   df_historico_qtd['qtd_m-2'],\n",
    "                                   df_historico_qtd['qtd_m-3'])]\n",
    "df_historico_qtd['qtd_trim-2'] = [q1+q2+q3 for q1,q2,q3 in zip\n",
    "                                  (df_historico_qtd['qtd_m-4'], \n",
    "                                   df_historico_qtd['qtd_m-5'],  \n",
    "                                   df_historico_qtd['qtd_m-6'])]\n",
    "df_historico_qtd['qtd_trim-3'] = [q1+q2+q3 for q1,q2,q3 in zip\n",
    "                                  (df_historico_qtd['qtd_m-7'], \n",
    "                                   df_historico_qtd['qtd_m-8'],  \n",
    "                                   df_historico_qtd['qtd_m-9'])]\n",
    "df_historico_qtd['qtd_trim-4'] = [q1+q2+q3 for q1,q2,q3 in zip\n",
    "                                  (df_historico_qtd['qtd_m-10'], \n",
    "                                   df_historico_qtd['qtd_m-11'],  \n",
    "                                   df_historico_qtd['qtd_m-12'])]\n",
    "df_historico_qtd['qtd_ano'] = [v1+v2+v3+v4 for v1,v2,v3,v4 in zip\n",
    "                               (df_historico_qtd['qtd_trim-1'], \n",
    "                                df_historico_qtd['qtd_trim-2'],  \n",
    "                                df_historico_qtd['qtd_trim-3'],\n",
    "                                df_historico_qtd['qtd_trim-4'])]"
   ]
  },
  {
   "cell_type": "code",
   "execution_count": 81,
   "metadata": {
    "collapsed": true
   },
   "outputs": [],
   "source": [
    "df_historico = pd.concat([df_historico_valor, df_historico_qtd], axis=1)"
   ]
  },
  {
   "cell_type": "code",
   "execution_count": 82,
   "metadata": {
    "collapsed": false
   },
   "outputs": [],
   "source": [
    "df_treino['Periodicidade_Meses'] = [periodicidade(x) for x in df_treino.ds_Periodicidade]\n",
    "df_treino['idade_prov'] = [diff_month(fim_janela_feature, Inst) for Inst in df_treino.Instalacao_AnoMes]\n",
    "df_treino['idade_cli'] = [diff_month(fim_janela_feature, Inst) for Inst in df_treino.Primeiro_Servico_LW_AnoMes]\n",
    "df_treino['quantidade_renovacoes_prov'] = [int(id_prov/peri_mes) for \n",
    "                                           id_prov, peri_mes in zip (df_treino.idade_prov, df_treino.Periodicidade_Meses)]\n",
    "df_treino['Qtd_meses_P_renovacoes'] = [peri_mes-(idade_prov-qtd_renov*peri_mes) for\n",
    "                                       peri_mes,idade_prov,qtd_renov in \n",
    "                                       zip(df_treino.Periodicidade_Meses, \n",
    "                                           df_treino.idade_prov, \n",
    "                                           df_treino.quantidade_renovacoes_prov)]"
   ]
  },
  {
   "cell_type": "code",
   "execution_count": 83,
   "metadata": {
    "collapsed": false
   },
   "outputs": [],
   "source": [
    "df_treino = df_treino[~df_treino.Servico.isnull()].copy()\n",
    "lista = list(df_treino.Servico.unique())\n",
    "lista = ['Servico_' + str(i) for i in lista]\n",
    "dict_lista = {str(i): 'sum' for i in lista}\n",
    "ohe = ['Servico']\n",
    "colunas = ['cd_ChaveCliente', 'Servico']\n",
    "df_ohe_Servico = pd.get_dummies(df_treino[colunas], columns = ohe,)\n",
    "df_ohe_Servico = df_ohe_Servico.groupby('cd_ChaveCliente').agg(dict_lista)\n",
    "df_ohe_Servico.drop(df_ohe_Servico.columns[[0]], axis=1, inplace= True)\n",
    "###################################################################################\n",
    "\n",
    "###################################################################################\n",
    "df_treino = df_treino[~df_treino.ds_Periodicidade.isnull()].copy()\n",
    "lista = list(df_treino.ds_Periodicidade.unique())\n",
    "lista = ['ds_Periodicidade_' + str(i) for i in lista]\n",
    "dict_lista = {str(i): 'sum' for i in lista}\n",
    "ohe = ['ds_Periodicidade']\n",
    "colunas = ['cd_ChaveCliente', 'ds_Periodicidade']\n",
    "df_ohe_ds_Periodicidade = pd.get_dummies(df_treino[colunas], columns = ohe,)\n",
    "df_ohe_ds_Periodicidade = df_ohe_ds_Periodicidade.groupby('cd_ChaveCliente').agg(dict_lista)\n",
    "df_ohe_ds_Periodicidade.drop(df_ohe_ds_Periodicidade.columns[[0]], axis=1, inplace= True)\n",
    "###################################################################################\n",
    "\n",
    "###################################################################################\n",
    "df_treino = df_treino[~df_treino.Perfil.isnull()].copy()\n",
    "lista = list(df_treino.Perfil.unique())\n",
    "lista = ['Perfil_' + str(i) for i in lista]\n",
    "dict_lista = {str(i): 'sum' for i in lista}\n",
    "ohe = ['Perfil']\n",
    "colunas = ['cd_ChaveCliente', 'Perfil']\n",
    "df_ohe_Perfil = pd.get_dummies(df_treino[colunas], columns = ohe,)\n",
    "df_ohe_Perfil = df_ohe_Perfil.groupby('cd_ChaveCliente').agg(dict_lista)\n",
    "df_ohe_Perfil.drop(df_ohe_Perfil.columns[[0]], axis=1, inplace= True)\n",
    "###################################################################################\n",
    "\n",
    "###################################################################################\n",
    "df_treino = df_treino[~df_treino.classificacao.isnull()].copy()\n",
    "lista = list(df_treino.classificacao.unique())\n",
    "lista = ['classificacao_' + str(i) for i in lista]\n",
    "dict_lista = {str(i): 'sum' for i in lista}\n",
    "ohe = ['classificacao']\n",
    "colunas = ['cd_ChaveCliente', 'classificacao']\n",
    "df_ohe_classificacao = pd.get_dummies(df_treino[colunas], columns = ohe,)\n",
    "df_ohe_classificacao = df_ohe_classificacao.groupby('cd_ChaveCliente').agg(dict_lista)\n",
    "df_ohe_classificacao.drop(df_ohe_classificacao.columns[[0]], axis=1, inplace= True)\n",
    "###################################################################################\n",
    "\n",
    "###################################################################################\n",
    "df_treino = df_treino[~df_treino.Status.isnull()].copy()\n",
    "lista = list(df_treino.Status.unique())\n",
    "lista = ['Status_' + str(i) for i in lista]\n",
    "dict_lista = {str(i): 'sum' for i in lista}\n",
    "ohe = ['Status']\n",
    "colunas = ['cd_ChaveCliente', 'Status']\n",
    "df_ohe_Status = pd.get_dummies(df_treino[colunas], columns = ohe,)\n",
    "df_ohe_Status = df_ohe_Status.groupby('cd_ChaveCliente').agg(dict_lista)\n",
    "df_ohe_Status.drop(df_ohe_Status.columns[[0]], axis=1, inplace= True)\n",
    "###################################################################################\n",
    "\n",
    "###################################################################################\n",
    "df_treino['idade_prov_sum'] = df_treino.idade_prov\n",
    "df_treino['idade_cli_sum'] = df_treino.idade_cli\n",
    "df_treino['quantidade_renovacoes_prov_sum'] = df_treino.quantidade_renovacoes_prov\n",
    "df_treino['Qtd_meses_P_renovacoes_sum'] = df_treino.Qtd_meses_P_renovacoes\n",
    "dict_lista = {'Provisioning' : 'count',\n",
    "              'nr_PrecoMensal' : 'sum',\n",
    "              'fl_ServicoPai' : 'sum',\n",
    "              'fl_Dev' : 'sum',\n",
    "              'Data_Desativacao_flag' : 'sum',\n",
    "              'fl_GerenteConta' : 'sum',\n",
    "              'idade_prov' : 'mean',\n",
    "              'idade_cli' : 'mean',\n",
    "              'quantidade_renovacoes_prov' : 'mean',\n",
    "              'Qtd_meses_P_renovacoes' : 'mean',\n",
    "              'idade_prov_sum' : 'sum',\n",
    "              'idade_cli_sum' : 'sum',\n",
    "              'quantidade_renovacoes_prov_sum' : 'sum',\n",
    "              'Qtd_meses_P_renovacoes_sum' : 'sum',\n",
    "              'FlagChurn' : 'sum'}\n",
    "df_treino = df_treino.groupby('cd_ChaveCliente').agg(dict_lista)\n",
    "\n",
    "###################################################################################\n",
    "###################################################################################\n",
    "df_treino = pd.concat([df_treino, df_ohe_Servico, \n",
    "                       df_ohe_ds_Periodicidade, df_ohe_Perfil, \n",
    "                       df_ohe_classificacao, df_ohe_Status], axis=1)"
   ]
  },
  {
   "cell_type": "code",
   "execution_count": 84,
   "metadata": {
    "collapsed": false
   },
   "outputs": [],
   "source": [
    "colunas = ['cd_ChaveCliente']\n",
    "df_booking = df_base[colunas][(df_base.Instalacao_AnoMes >= inicio_janela_booking) & \n",
    "                              (df_base.Instalacao_AnoMes < fim_janela_booking)].copy()\n",
    "df_booking['booking'] = 1\n",
    "dict_lista = {'booking' : 'sum'}\n",
    "df_booking = df_booking.groupby('cd_ChaveCliente').agg(dict_lista)"
   ]
  },
  {
   "cell_type": "code",
   "execution_count": 85,
   "metadata": {
    "collapsed": false
   },
   "outputs": [],
   "source": [
    "df_treino = pd.concat([df_treino, df_booking], axis=1, join_axes=[df_treino.index])\n",
    "df_treino.booking.fillna(0, inplace= True)\n",
    "df_treino['booking'] = [0 if b == 0 else 1 for b in df_treino.booking]"
   ]
  },
  {
   "cell_type": "code",
   "execution_count": 86,
   "metadata": {
    "collapsed": false
   },
   "outputs": [],
   "source": [
    "df_treino = pd.concat([df_treino, df_historico], axis=1)"
   ]
  },
  {
   "cell_type": "code",
   "execution_count": 87,
   "metadata": {
    "collapsed": false
   },
   "outputs": [],
   "source": [
    "df_treino.reset_index(inplace= True)"
   ]
  },
  {
   "cell_type": "code",
   "execution_count": 88,
   "metadata": {
    "collapsed": true
   },
   "outputs": [],
   "source": [
    "df_treino.rename(columns= {'index': 'cd_ChaveCliente'}, inplace= True)"
   ]
  },
  {
   "cell_type": "code",
   "execution_count": 89,
   "metadata": {
    "collapsed": false
   },
   "outputs": [
    {
     "name": "stderr",
     "output_type": "stream",
     "text": [
      "D:\\Users\\felipe.santos\\AppData\\Local\\Continuum\\Anaconda3\\lib\\site-packages\\numpy\\lib\\function_base.py:3834: RuntimeWarning: Invalid value encountered in percentile\n",
      "  RuntimeWarning)\n"
     ]
    }
   ],
   "source": [
    "percentiles= [10,20,30,40,50,60,70,80,90]\n",
    "Perc = cria_curva(percentiles, df_treino.nr_PrecoMensal)\n",
    "df_treino['nr_PrecoMensal_curva'] = [marca_base(Perc, x) for x in df_treino.nr_PrecoMensal]"
   ]
  },
  {
   "cell_type": "code",
   "execution_count": 90,
   "metadata": {
    "collapsed": false
   },
   "outputs": [],
   "source": [
    "df_treino.fillna(0,inplace= True)"
   ]
  },
  {
   "cell_type": "code",
   "execution_count": 91,
   "metadata": {
    "collapsed": false
   },
   "outputs": [
    {
     "data": {
      "text/plain": [
       "Index(['cd_ChaveCliente', 'idade_prov', 'nr_PrecoMensal',\n",
       "       'quantidade_renovacoes_prov_sum', 'idade_cli_sum', 'fl_ServicoPai',\n",
       "       'fl_GerenteConta', 'FlagChurn', 'Qtd_meses_P_renovacoes_sum',\n",
       "       'quantidade_renovacoes_prov', 'Qtd_meses_P_renovacoes', 'Provisioning',\n",
       "       'idade_prov_sum', 'Data_Desativacao_flag', 'fl_Dev', 'idade_cli',\n",
       "       'Servico_Backup de Sites', 'Servico_Independente Cloud - Dedicado',\n",
       "       'Servico_SMTP', 'Servico_WebStore', 'Servico_Parcerias',\n",
       "       'Servico_PABX Virtual', 'Servico_Licencas - Dedicado',\n",
       "       'Servico_STREAMING_AUDIO_VIDEO', 'Servico_Exchange',\n",
       "       'Servico_One Drive', 'Servico_SSL', 'Servico_Orago',\n",
       "       'Servico_GestÃ£o Personalizada', 'Servico_Gateway Pagtos',\n",
       "       'Servico_Email MKT', 'Servico_Google Adwords', 'Servico_Schedulista',\n",
       "       'Servico_WebDesk', 'Servico_Windows Streaming',\n",
       "       'Servico_Registro Dominio', 'Servico_Licencas - Cloud',\n",
       "       'Servico_Cloud VPS', 'Servico_Hospedagem', 'Servico_Revenda Hosp.',\n",
       "       'Servico_PABX Virtual ', 'Servico_Servidor Dedicado',\n",
       "       'Servico_Jelastic', 'Servico_WebChat', 'Servico_Google Apps',\n",
       "       'Servico_Descontinuados', 'Servico_Cloud Server Pro', 'Servico_WR',\n",
       "       'Servico_Email', 'Servico_Criador de Sites',\n",
       "       'ds_Periodicidade_Semestral', 'ds_Periodicidade_Trienal',\n",
       "       'ds_Periodicidade_Mensal', 'ds_Periodicidade_Anual',\n",
       "       'Perfil_Varejo High', 'Perfil_Varejo Low', 'classificacao_PF',\n",
       "       'Status_inativo', 'booking', 'vlr_m-1', 'vlr_m-2', 'vlr_m-3', 'vlr_m-4',\n",
       "       'vlr_m-5', 'vlr_m-6', 'vlr_m-7', 'vlr_m-8', 'vlr_m-9', 'vlr_m-10',\n",
       "       'vlr_m-11', 'vlr_m-12', 'vlr_trim-1', 'vlr_trim-2', 'vlr_trim-3',\n",
       "       'vlr_trim-4', 'vlr_ano', 'qtd_m-1', 'qtd_m-2', 'qtd_m-3', 'qtd_m-4',\n",
       "       'qtd_m-5', 'qtd_m-6', 'qtd_m-7', 'qtd_m-8', 'qtd_m-9', 'qtd_m-10',\n",
       "       'qtd_m-11', 'qtd_m-12', 'qtd_trim-1', 'qtd_trim-2', 'qtd_trim-3',\n",
       "       'qtd_trim-4', 'qtd_ano', 'nr_PrecoMensal_curva'],\n",
       "      dtype='object')"
      ]
     },
     "execution_count": 91,
     "metadata": {},
     "output_type": "execute_result"
    }
   ],
   "source": [
    "df_treino.columns"
   ]
  },
  {
   "cell_type": "markdown",
   "metadata": {
    "collapsed": true
   },
   "source": [
    "# Exceto Registro de Dominio"
   ]
  },
  {
   "cell_type": "code",
   "execution_count": 92,
   "metadata": {
    "collapsed": false
   },
   "outputs": [
    {
     "data": {
      "text/plain": [
       "(171119, 94)"
      ]
     },
     "execution_count": 92,
     "metadata": {},
     "output_type": "execute_result"
    }
   ],
   "source": [
    "df_treino[df_treino['Servico_Registro Dominio'] == 0].shape"
   ]
  },
  {
   "cell_type": "code",
   "execution_count": 93,
   "metadata": {
    "collapsed": false
   },
   "outputs": [
    {
     "name": "stdout",
     "output_type": "stream",
     "text": [
      "Fold # 1\n",
      "train indices: [ 56048  56221  56235 ..., 171116 171117 171118]\n",
      "validation indices [    0     1     2 ..., 57074 57075 57076]\n",
      "AUC on fold # 1 : 0.765368594753 \n",
      "\n",
      "Fold # 2\n",
      "train indices: [     0      1      2 ..., 171116 171117 171118]\n",
      "validation indices [ 56048  56221  56235 ..., 114138 114139 114141]\n",
      "AUC on fold # 2 : 0.785041045495 \n",
      "\n",
      "Fold # 3\n",
      "train indices: [     0      1      2 ..., 114138 114139 114141]\n",
      "validation indices [112549 112571 112635 ..., 171116 171117 171118]\n",
      "AUC on fold # 3 : 0.773206046601 \n",
      "\n",
      "Average AUC on 3 folds: 0.774538562283\n"
     ]
    }
   ],
   "source": [
    "# shuffle rows\n",
    "X = df_treino[df_treino['Servico_Registro Dominio'] == 0].drop('cd_ChaveCliente', axis=1).sample(frac = 1).copy()\n",
    "#X = df_treino[colunas].sample(frac = 1)\n",
    "\n",
    "# create X and y matrices\n",
    "y = X.booking.values\n",
    "Colunas_Modelo = X.reset_index(drop=True).drop(['booking'], axis = 1).columns\n",
    "X = X.reset_index(drop=True).drop(['booking'], axis = 1).values\n",
    "\n",
    "# scaling\n",
    "scaler = StandardScaler()\n",
    "X = scaler.fit_transform(X)\n",
    "\n",
    "from sklearn.model_selection import StratifiedKFold\n",
    "skf = StratifiedKFold(n_splits=3)\n",
    "\n",
    "auc_list = []\n",
    "k = 1\n",
    "\n",
    "for train, valid in skf.split(X, y):\n",
    "    print('Fold #', k)\n",
    "    print(\"train indices: %s\\nvalidation indices %s\" % (train, valid))\n",
    "    clf = RandomForestClassifier(class_weight='balanced', n_estimators=500, max_depth=5)\n",
    "    \n",
    "    clf.fit(X[train], y[train])\n",
    "    y_pred = clf.predict_proba(X[valid])\n",
    "    auc = roc_auc_score(y[valid], y_pred[:,1])\n",
    "    auc_list.append(auc)\n",
    "    print('AUC on fold #', k, ':', auc, '\\n')\n",
    "    k += 1\n",
    "    \n",
    "print('Average AUC on', k-1, 'folds:', np.mean(auc_list))"
   ]
  },
  {
   "cell_type": "markdown",
   "metadata": {
    "collapsed": true
   },
   "source": [
    "# Registro de Dominio"
   ]
  },
  {
   "cell_type": "code",
   "execution_count": 94,
   "metadata": {
    "collapsed": false
   },
   "outputs": [
    {
     "data": {
      "text/plain": [
       "(145395, 94)"
      ]
     },
     "execution_count": 94,
     "metadata": {},
     "output_type": "execute_result"
    }
   ],
   "source": [
    "df_treino[df_treino['Servico_Registro Dominio'] > 0].shape"
   ]
  },
  {
   "cell_type": "code",
   "execution_count": 95,
   "metadata": {
    "collapsed": false
   },
   "outputs": [
    {
     "name": "stdout",
     "output_type": "stream",
     "text": [
      "Fold # 1\n",
      "train indices: [ 48428  48429  48430 ..., 145392 145393 145394]\n",
      "validation indices [    0     1     2 ..., 49328 49333 49335]\n",
      "AUC on fold # 1 : 0.776275128413 \n",
      "\n",
      "Fold # 2\n",
      "train indices: [     0      1      2 ..., 145392 145393 145394]\n",
      "validation indices [48428 48429 48430 ..., 96947 96948 96949]\n",
      "AUC on fold # 2 : 0.775046846219 \n",
      "\n",
      "Fold # 3\n",
      "train indices: [    0     1     2 ..., 96947 96948 96949]\n",
      "validation indices [ 96432  96435  96472 ..., 145392 145393 145394]\n",
      "AUC on fold # 3 : 0.773873884858 \n",
      "\n",
      "Average AUC on 3 folds: 0.775065286497\n"
     ]
    }
   ],
   "source": [
    "# shuffle rows\n",
    "X = df_treino[df_treino['Servico_Registro Dominio'] > 0].drop('cd_ChaveCliente', axis=1).sample(frac = 1).copy()\n",
    "#X = df_treino[colunas].sample(frac = 1)\n",
    "\n",
    "# create X and y matrices\n",
    "y = X.booking.values\n",
    "Colunas_Modelo = X.reset_index(drop=True).drop(['booking'], axis = 1).columns\n",
    "X = X.reset_index(drop=True).drop(['booking'], axis = 1).values\n",
    "\n",
    "# scaling\n",
    "scaler = StandardScaler()\n",
    "X = scaler.fit_transform(X)\n",
    "\n",
    "from sklearn.model_selection import StratifiedKFold\n",
    "skf = StratifiedKFold(n_splits=3)\n",
    "\n",
    "auc_list = []\n",
    "k = 1\n",
    "\n",
    "for train, valid in skf.split(X, y):\n",
    "    print('Fold #', k)\n",
    "    print(\"train indices: %s\\nvalidation indices %s\" % (train, valid))\n",
    "    clf_RegDom = RandomForestClassifier(class_weight='balanced', n_estimators=500, max_depth=5)\n",
    "    \n",
    "    clf_RegDom.fit(X[train], y[train])\n",
    "    y_pred = clf.predict_proba(X[valid])\n",
    "    auc = roc_auc_score(y[valid], y_pred[:,1])\n",
    "    auc_list.append(auc)\n",
    "    print('AUC on fold #', k, ':', auc, '\\n')\n",
    "    k += 1\n",
    "    \n",
    "print('Average AUC on', k-1, 'folds:', np.mean(auc_list))"
   ]
  },
  {
   "cell_type": "markdown",
   "metadata": {},
   "source": [
    "# \n"
   ]
  },
  {
   "cell_type": "markdown",
   "metadata": {},
   "source": [
    "# \n"
   ]
  },
  {
   "cell_type": "markdown",
   "metadata": {},
   "source": [
    "# \n"
   ]
  },
  {
   "cell_type": "markdown",
   "metadata": {},
   "source": [
    "# \n"
   ]
  },
  {
   "cell_type": "markdown",
   "metadata": {},
   "source": [
    "# Cria Cluster"
   ]
  },
  {
   "cell_type": "code",
   "execution_count": 96,
   "metadata": {
    "collapsed": true
   },
   "outputs": [],
   "source": [
    "#cria copia da original- Auxiliar()\n",
    "df_original = df_treino.copy()"
   ]
  },
  {
   "cell_type": "code",
   "execution_count": 97,
   "metadata": {
    "collapsed": false
   },
   "outputs": [
    {
     "data": {
      "text/plain": [
       "(316514, 94)"
      ]
     },
     "execution_count": 97,
     "metadata": {},
     "output_type": "execute_result"
    }
   ],
   "source": [
    "df_original.shape"
   ]
  },
  {
   "cell_type": "code",
   "execution_count": 99,
   "metadata": {
    "collapsed": false
   },
   "outputs": [
    {
     "data": {
      "text/plain": [
       "316514"
      ]
     },
     "execution_count": 99,
     "metadata": {},
     "output_type": "execute_result"
    }
   ],
   "source": [
    "145395+171119"
   ]
  },
  {
   "cell_type": "markdown",
   "metadata": {},
   "source": [
    "# \n"
   ]
  },
  {
   "cell_type": "code",
   "execution_count": 100,
   "metadata": {
    "collapsed": true
   },
   "outputs": [],
   "source": [
    "df_treino = df_original.copy()"
   ]
  },
  {
   "cell_type": "markdown",
   "metadata": {},
   "source": [
    "# \n"
   ]
  },
  {
   "cell_type": "code",
   "execution_count": 101,
   "metadata": {
    "collapsed": true
   },
   "outputs": [],
   "source": [
    "df_treino = df_treino[df_treino['Servico_Registro Dominio'] == 0].copy()"
   ]
  },
  {
   "cell_type": "code",
   "execution_count": 102,
   "metadata": {
    "collapsed": false
   },
   "outputs": [
    {
     "data": {
      "text/plain": [
       "(171119, 94)"
      ]
     },
     "execution_count": 102,
     "metadata": {},
     "output_type": "execute_result"
    }
   ],
   "source": [
    "df_treino.shape"
   ]
  },
  {
   "cell_type": "code",
   "execution_count": 103,
   "metadata": {
    "collapsed": false
   },
   "outputs": [],
   "source": [
    "X = df_treino[Colunas_Modelo].copy()\n",
    "X = scaler.fit_transform(X)\n",
    "\n",
    "y_pred = clf.predict_proba(X)\n",
    "y_pred = pd.DataFrame(data=y_pred[:,1])\n",
    "y_pred.rename(columns= {0: 'Prob_Consumo'}, inplace= True)\n",
    "y_pred.shape\n",
    "\n",
    "df_treino = pd.concat([df_treino, y_pred], axis=1)"
   ]
  },
  {
   "cell_type": "code",
   "execution_count": 104,
   "metadata": {
    "collapsed": false
   },
   "outputs": [
    {
     "name": "stdout",
     "output_type": "stream",
     "text": [
      "<class 'pandas.core.frame.DataFrame'>\n",
      "Int64Index: 246535 entries, 0 to 316513\n",
      "Data columns (total 95 columns):\n",
      "cd_ChaveCliente                          171119 non-null object\n",
      "idade_prov                               171119 non-null float64\n",
      "nr_PrecoMensal                           171119 non-null float64\n",
      "quantidade_renovacoes_prov_sum           171119 non-null float64\n",
      "idade_cli_sum                            171119 non-null float64\n",
      "fl_ServicoPai                            171119 non-null float64\n",
      "fl_GerenteConta                          171119 non-null float64\n",
      "FlagChurn                                171119 non-null float64\n",
      "Qtd_meses_P_renovacoes_sum               171119 non-null float64\n",
      "quantidade_renovacoes_prov               171119 non-null float64\n",
      "Qtd_meses_P_renovacoes                   171119 non-null float64\n",
      "Provisioning                             171119 non-null float64\n",
      "idade_prov_sum                           171119 non-null float64\n",
      "Data_Desativacao_flag                    171119 non-null float64\n",
      "fl_Dev                                   171119 non-null float64\n",
      "idade_cli                                171119 non-null float64\n",
      "Servico_Backup de Sites                  171119 non-null float64\n",
      "Servico_Independente Cloud - Dedicado    171119 non-null float64\n",
      "Servico_SMTP                             171119 non-null float64\n",
      "Servico_WebStore                         171119 non-null float64\n",
      "Servico_Parcerias                        171119 non-null float64\n",
      "Servico_PABX Virtual                     171119 non-null float64\n",
      "Servico_Licencas - Dedicado              171119 non-null float64\n",
      "Servico_STREAMING_AUDIO_VIDEO            171119 non-null float64\n",
      "Servico_Exchange                         171119 non-null float64\n",
      "Servico_One Drive                        171119 non-null float64\n",
      "Servico_SSL                              171119 non-null float64\n",
      "Servico_Orago                            171119 non-null float64\n",
      "Servico_GestÃ£o Personalizada            171119 non-null float64\n",
      "Servico_Gateway Pagtos                   171119 non-null float64\n",
      "Servico_Email MKT                        171119 non-null float64\n",
      "Servico_Google Adwords                   171119 non-null float64\n",
      "Servico_Schedulista                      171119 non-null float64\n",
      "Servico_WebDesk                          171119 non-null float64\n",
      "Servico_Windows Streaming                171119 non-null float64\n",
      "Servico_Registro Dominio                 171119 non-null float64\n",
      "Servico_Licencas - Cloud                 171119 non-null float64\n",
      "Servico_Cloud VPS                        171119 non-null float64\n",
      "Servico_Hospedagem                       171119 non-null float64\n",
      "Servico_Revenda Hosp.                    171119 non-null float64\n",
      "Servico_PABX Virtual                     171119 non-null float64\n",
      "Servico_Servidor Dedicado                171119 non-null float64\n",
      "Servico_Jelastic                         171119 non-null float64\n",
      "Servico_WebChat                          171119 non-null float64\n",
      "Servico_Google Apps                      171119 non-null float64\n",
      "Servico_Descontinuados                   171119 non-null float64\n",
      "Servico_Cloud Server Pro                 171119 non-null float64\n",
      "Servico_WR                               171119 non-null float64\n",
      "Servico_Email                            171119 non-null float64\n",
      "Servico_Criador de Sites                 171119 non-null float64\n",
      "ds_Periodicidade_Semestral               171119 non-null float64\n",
      "ds_Periodicidade_Trienal                 171119 non-null float64\n",
      "ds_Periodicidade_Mensal                  171119 non-null float64\n",
      "ds_Periodicidade_Anual                   171119 non-null float64\n",
      "Perfil_Varejo High                       171119 non-null float64\n",
      "Perfil_Varejo Low                        171119 non-null float64\n",
      "classificacao_PF                         171119 non-null float64\n",
      "Status_inativo                           171119 non-null float64\n",
      "booking                                  171119 non-null float64\n",
      "vlr_m-1                                  171119 non-null float64\n",
      "vlr_m-2                                  171119 non-null float64\n",
      "vlr_m-3                                  171119 non-null float64\n",
      "vlr_m-4                                  171119 non-null float64\n",
      "vlr_m-5                                  171119 non-null float64\n",
      "vlr_m-6                                  171119 non-null float64\n",
      "vlr_m-7                                  171119 non-null float64\n",
      "vlr_m-8                                  171119 non-null float64\n",
      "vlr_m-9                                  171119 non-null float64\n",
      "vlr_m-10                                 171119 non-null float64\n",
      "vlr_m-11                                 171119 non-null float64\n",
      "vlr_m-12                                 171119 non-null float64\n",
      "vlr_trim-1                               171119 non-null float64\n",
      "vlr_trim-2                               171119 non-null float64\n",
      "vlr_trim-3                               171119 non-null float64\n",
      "vlr_trim-4                               171119 non-null float64\n",
      "vlr_ano                                  171119 non-null float64\n",
      "qtd_m-1                                  171119 non-null float64\n",
      "qtd_m-2                                  171119 non-null float64\n",
      "qtd_m-3                                  171119 non-null float64\n",
      "qtd_m-4                                  171119 non-null float64\n",
      "qtd_m-5                                  171119 non-null float64\n",
      "qtd_m-6                                  171119 non-null float64\n",
      "qtd_m-7                                  171119 non-null float64\n",
      "qtd_m-8                                  171119 non-null float64\n",
      "qtd_m-9                                  171119 non-null float64\n",
      "qtd_m-10                                 171119 non-null float64\n",
      "qtd_m-11                                 171119 non-null float64\n",
      "qtd_m-12                                 171119 non-null float64\n",
      "qtd_trim-1                               171119 non-null float64\n",
      "qtd_trim-2                               171119 non-null float64\n",
      "qtd_trim-3                               171119 non-null float64\n",
      "qtd_trim-4                               171119 non-null float64\n",
      "qtd_ano                                  171119 non-null float64\n",
      "nr_PrecoMensal_curva                     171119 non-null float64\n",
      "Prob_Consumo                             171119 non-null float64\n",
      "dtypes: float64(94), object(1)\n",
      "memory usage: 180.6+ MB\n"
     ]
    }
   ],
   "source": [
    "df_treino.info()"
   ]
  },
  {
   "cell_type": "code",
   "execution_count": 105,
   "metadata": {
    "collapsed": false
   },
   "outputs": [],
   "source": [
    "df_treino.dropna(inplace= True)"
   ]
  },
  {
   "cell_type": "code",
   "execution_count": 106,
   "metadata": {
    "collapsed": false
   },
   "outputs": [
    {
     "name": "stdout",
     "output_type": "stream",
     "text": [
      "<class 'pandas.core.frame.DataFrame'>\n",
      "Int64Index: 95703 entries, 0 to 171118\n",
      "Data columns (total 95 columns):\n",
      "cd_ChaveCliente                          95703 non-null object\n",
      "idade_prov                               95703 non-null float64\n",
      "nr_PrecoMensal                           95703 non-null float64\n",
      "quantidade_renovacoes_prov_sum           95703 non-null float64\n",
      "idade_cli_sum                            95703 non-null float64\n",
      "fl_ServicoPai                            95703 non-null float64\n",
      "fl_GerenteConta                          95703 non-null float64\n",
      "FlagChurn                                95703 non-null float64\n",
      "Qtd_meses_P_renovacoes_sum               95703 non-null float64\n",
      "quantidade_renovacoes_prov               95703 non-null float64\n",
      "Qtd_meses_P_renovacoes                   95703 non-null float64\n",
      "Provisioning                             95703 non-null float64\n",
      "idade_prov_sum                           95703 non-null float64\n",
      "Data_Desativacao_flag                    95703 non-null float64\n",
      "fl_Dev                                   95703 non-null float64\n",
      "idade_cli                                95703 non-null float64\n",
      "Servico_Backup de Sites                  95703 non-null float64\n",
      "Servico_Independente Cloud - Dedicado    95703 non-null float64\n",
      "Servico_SMTP                             95703 non-null float64\n",
      "Servico_WebStore                         95703 non-null float64\n",
      "Servico_Parcerias                        95703 non-null float64\n",
      "Servico_PABX Virtual                     95703 non-null float64\n",
      "Servico_Licencas - Dedicado              95703 non-null float64\n",
      "Servico_STREAMING_AUDIO_VIDEO            95703 non-null float64\n",
      "Servico_Exchange                         95703 non-null float64\n",
      "Servico_One Drive                        95703 non-null float64\n",
      "Servico_SSL                              95703 non-null float64\n",
      "Servico_Orago                            95703 non-null float64\n",
      "Servico_GestÃ£o Personalizada            95703 non-null float64\n",
      "Servico_Gateway Pagtos                   95703 non-null float64\n",
      "Servico_Email MKT                        95703 non-null float64\n",
      "Servico_Google Adwords                   95703 non-null float64\n",
      "Servico_Schedulista                      95703 non-null float64\n",
      "Servico_WebDesk                          95703 non-null float64\n",
      "Servico_Windows Streaming                95703 non-null float64\n",
      "Servico_Registro Dominio                 95703 non-null float64\n",
      "Servico_Licencas - Cloud                 95703 non-null float64\n",
      "Servico_Cloud VPS                        95703 non-null float64\n",
      "Servico_Hospedagem                       95703 non-null float64\n",
      "Servico_Revenda Hosp.                    95703 non-null float64\n",
      "Servico_PABX Virtual                     95703 non-null float64\n",
      "Servico_Servidor Dedicado                95703 non-null float64\n",
      "Servico_Jelastic                         95703 non-null float64\n",
      "Servico_WebChat                          95703 non-null float64\n",
      "Servico_Google Apps                      95703 non-null float64\n",
      "Servico_Descontinuados                   95703 non-null float64\n",
      "Servico_Cloud Server Pro                 95703 non-null float64\n",
      "Servico_WR                               95703 non-null float64\n",
      "Servico_Email                            95703 non-null float64\n",
      "Servico_Criador de Sites                 95703 non-null float64\n",
      "ds_Periodicidade_Semestral               95703 non-null float64\n",
      "ds_Periodicidade_Trienal                 95703 non-null float64\n",
      "ds_Periodicidade_Mensal                  95703 non-null float64\n",
      "ds_Periodicidade_Anual                   95703 non-null float64\n",
      "Perfil_Varejo High                       95703 non-null float64\n",
      "Perfil_Varejo Low                        95703 non-null float64\n",
      "classificacao_PF                         95703 non-null float64\n",
      "Status_inativo                           95703 non-null float64\n",
      "booking                                  95703 non-null float64\n",
      "vlr_m-1                                  95703 non-null float64\n",
      "vlr_m-2                                  95703 non-null float64\n",
      "vlr_m-3                                  95703 non-null float64\n",
      "vlr_m-4                                  95703 non-null float64\n",
      "vlr_m-5                                  95703 non-null float64\n",
      "vlr_m-6                                  95703 non-null float64\n",
      "vlr_m-7                                  95703 non-null float64\n",
      "vlr_m-8                                  95703 non-null float64\n",
      "vlr_m-9                                  95703 non-null float64\n",
      "vlr_m-10                                 95703 non-null float64\n",
      "vlr_m-11                                 95703 non-null float64\n",
      "vlr_m-12                                 95703 non-null float64\n",
      "vlr_trim-1                               95703 non-null float64\n",
      "vlr_trim-2                               95703 non-null float64\n",
      "vlr_trim-3                               95703 non-null float64\n",
      "vlr_trim-4                               95703 non-null float64\n",
      "vlr_ano                                  95703 non-null float64\n",
      "qtd_m-1                                  95703 non-null float64\n",
      "qtd_m-2                                  95703 non-null float64\n",
      "qtd_m-3                                  95703 non-null float64\n",
      "qtd_m-4                                  95703 non-null float64\n",
      "qtd_m-5                                  95703 non-null float64\n",
      "qtd_m-6                                  95703 non-null float64\n",
      "qtd_m-7                                  95703 non-null float64\n",
      "qtd_m-8                                  95703 non-null float64\n",
      "qtd_m-9                                  95703 non-null float64\n",
      "qtd_m-10                                 95703 non-null float64\n",
      "qtd_m-11                                 95703 non-null float64\n",
      "qtd_m-12                                 95703 non-null float64\n",
      "qtd_trim-1                               95703 non-null float64\n",
      "qtd_trim-2                               95703 non-null float64\n",
      "qtd_trim-3                               95703 non-null float64\n",
      "qtd_trim-4                               95703 non-null float64\n",
      "qtd_ano                                  95703 non-null float64\n",
      "nr_PrecoMensal_curva                     95703 non-null float64\n",
      "Prob_Consumo                             95703 non-null float64\n",
      "dtypes: float64(94), object(1)\n",
      "memory usage: 70.1+ MB\n"
     ]
    }
   ],
   "source": [
    "df_treino.info()"
   ]
  },
  {
   "cell_type": "code",
   "execution_count": 60,
   "metadata": {
    "collapsed": false
   },
   "outputs": [
    {
     "data": {
      "text/plain": [
       "[0.16394063257884961,\n",
       " 0.16733772101714717,\n",
       " 0.16808367539621272,\n",
       " 0.16857362004604842,\n",
       " 0.16898709548530388,\n",
       " 0.16898709548530388,\n",
       " 0.16898709548530388,\n",
       " 0.16898709548530388,\n",
       " 0.16898709548530388,\n",
       " 0.16898709548530388,\n",
       " 0.16898709548530388,\n",
       " 0.16898709548530388,\n",
       " 0.16898709548530388,\n",
       " 0.16898709548530388,\n",
       " 0.16898709548530388,\n",
       " 0.16898709548530388,\n",
       " 0.16898709548530388,\n",
       " 0.16898709548530388,\n",
       " 0.16898709548530388,\n",
       " 0.16898709548530388,\n",
       " 0.16898709548530388,\n",
       " 0.16898709548530388,\n",
       " 0.16898709548530388,\n",
       " 0.16898709548530388,\n",
       " 0.16941157231283255,\n",
       " 0.16941157231283255,\n",
       " 0.16941157231283255,\n",
       " 0.16941157231283255,\n",
       " 0.16941157231283255,\n",
       " 0.16941157231283255,\n",
       " 0.16941157231283255,\n",
       " 0.16941157231283255,\n",
       " 0.16941157231283255,\n",
       " 0.16941157231283255,\n",
       " 0.16941157231283255,\n",
       " 0.16941157231283255,\n",
       " 0.16941157231283255,\n",
       " 0.16941157231283255,\n",
       " 0.16941157231283255,\n",
       " 0.16941157231283255,\n",
       " 0.16941157231283255,\n",
       " 0.16941157231283255,\n",
       " 0.16941157231283255,\n",
       " 0.16941157231283255,\n",
       " 0.16941157231283255,\n",
       " 0.16941157231283255,\n",
       " 0.16941157231283255,\n",
       " 0.16941157231283255,\n",
       " 0.16941157231283255,\n",
       " 0.17366675348087665,\n",
       " 0.17366675348087665,\n",
       " 0.17366675348087665,\n",
       " 0.17366675348087665,\n",
       " 0.17366675348087665,\n",
       " 0.17366675348087665,\n",
       " 0.17366675348087665,\n",
       " 0.17366675348087665,\n",
       " 0.17546626970820942,\n",
       " 0.17814078468397629,\n",
       " 0.17942224775503668,\n",
       " 0.17960356889588905,\n",
       " 0.18001704433514451,\n",
       " 0.18002804572341777,\n",
       " 0.18002804572341777,\n",
       " 0.18002804572341777,\n",
       " 0.18044152116267323,\n",
       " 0.18044152116267323,\n",
       " 0.18044152116267323,\n",
       " 0.18083711047272075,\n",
       " 0.18215226268569518,\n",
       " 0.18215226268569518,\n",
       " 0.18215226268569518,\n",
       " 0.18215226268569518,\n",
       " 0.18215226268569518,\n",
       " 0.18215226268569518,\n",
       " 0.1832301037386645,\n",
       " 0.18469670233071731,\n",
       " 0.18469670233071731,\n",
       " 0.18551676846829357,\n",
       " 0.18551676846829357,\n",
       " 0.18551676846829357,\n",
       " 0.18551676846829357,\n",
       " 0.18551676846829357,\n",
       " 0.18551676846829357,\n",
       " 0.185781529164115,\n",
       " 0.18605489089735661,\n",
       " 0.18629402943757462,\n",
       " 0.18687351042874867,\n",
       " 0.18744197662417014,\n",
       " 0.18896562158342736,\n",
       " 0.18896562158342736,\n",
       " 0.18896562158342736,\n",
       " 0.18896562158342736,\n",
       " 0.18896562158342736,\n",
       " 0.18896562158342736,\n",
       " 0.18896562158342739,\n",
       " 0.18896562158342736,\n",
       " 0.18896562158342736,\n",
       " 0.18896562158342736,\n",
       " 0.18896562158342736,\n",
       " 0.18896562158342736,\n",
       " 0.18896562158342736,\n",
       " 0.18896562158342736,\n",
       " 0.18896562158342736,\n",
       " 0.18945555063678959,\n",
       " 0.18947298266274029,\n",
       " 0.18959757226765472,\n",
       " 0.19098460145007118,\n",
       " 0.19329658490638529,\n",
       " 0.1975057593597811,\n",
       " 0.19974910097459286,\n",
       " 0.20152029375076413,\n",
       " 0.20273449336069593,\n",
       " 0.20417745463298634,\n",
       " 0.20472689564651911,\n",
       " 0.20583780313849839,\n",
       " 0.20583780313849839,\n",
       " 0.20661892372702545,\n",
       " 0.20707476754740609,\n",
       " 0.20849582307861914,\n",
       " 0.21130516457606946,\n",
       " 0.21130516457606949,\n",
       " 0.21130516457606946,\n",
       " 0.21513927827654428,\n",
       " 0.2162231819498705,\n",
       " 0.22080237595109828,\n",
       " 0.22818869400983657,\n",
       " 0.24225443509967345,\n",
       " 0.2517300661398994,\n",
       " 0.25816792576010106,\n",
       " 0.27171843698258413,\n",
       " 0.2779348358212147,\n",
       " 0.28739768645119507,\n",
       " 0.29321263372158324,\n",
       " 0.30225219974635986,\n",
       " 0.3085901579500826,\n",
       " 0.31481500914165511,\n",
       " 0.32245067539357986,\n",
       " 0.32979085188646035,\n",
       " 0.34154307113223881,\n",
       " 0.34433039542062166,\n",
       " 0.35504488212455365,\n",
       " 0.35704763211580237,\n",
       " 0.36162100567911615,\n",
       " 0.37183097573007678,\n",
       " 0.37183097573007673,\n",
       " 0.37183097573007678,\n",
       " 0.37224242247579531,\n",
       " 0.37241573149438684,\n",
       " 0.37241573149438684,\n",
       " 0.37241573149438684,\n",
       " 0.37291735572824314,\n",
       " 0.37291735572824314,\n",
       " 0.37350211149255336,\n",
       " 0.37356920469277588,\n",
       " 0.37429688926074212,\n",
       " 0.37447206892648544,\n",
       " 0.37447206892648544,\n",
       " 0.37447206892648544,\n",
       " 0.37447206892648544,\n",
       " 0.37459707863536984,\n",
       " 0.37497890120735922,\n",
       " 0.3753462850193785,\n",
       " 0.37579885114346601,\n",
       " 0.37607386835017587,\n",
       " 0.37615212042121793,\n",
       " 0.37644700133517311,\n",
       " 0.37678469587172875,\n",
       " 0.37707345517076835,\n",
       " 0.37749079963821414,\n",
       " 0.37934381875020057,\n",
       " 0.3799149482271782,\n",
       " 0.38061320757412209,\n",
       " 0.38088250877786634,\n",
       " 0.38148227335760149,\n",
       " 0.38154065819597344,\n",
       " 0.38159467113430473,\n",
       " 0.38199129257055292,\n",
       " 0.38211178767295101,\n",
       " 0.3822962450002042,\n",
       " 0.38282280706830063,\n",
       " 0.38379151058007771,\n",
       " 0.3849427598549891,\n",
       " 0.38519933789059713,\n",
       " 0.38577046736757475,\n",
       " 0.38577046736757475,\n",
       " 0.3863253880785591,\n",
       " 0.38685694556363748,\n",
       " 0.38807183493560127,\n",
       " 0.38844993655650889,\n",
       " 0.38955872134655961,\n",
       " 0.39010911070117493,\n",
       " 0.39087800335980971,\n",
       " 0.39306675856157647,\n",
       " 0.39378588815039239,\n",
       " 0.39472593270624251,\n",
       " 0.39580721680790959,\n",
       " 0.39617164414236988,\n",
       " 0.3969076932275894,\n",
       " 0.39783081828703593,\n",
       " 0.39788053276238045,\n",
       " 0.39863116324464432,\n",
       " 0.39982665175611087,\n",
       " 0.40074180861099273,\n",
       " 0.40114610293038949,\n",
       " 0.40232088699537383,\n",
       " 0.40411565710224528,\n",
       " 0.40608589412322227,\n",
       " 0.40747245749268968,\n",
       " 0.41062670300876414,\n",
       " 0.41341492394439322,\n",
       " 0.41558247009446725,\n",
       " 0.41873790610203865,\n",
       " 0.42142295476248992,\n",
       " 0.42261525419576379,\n",
       " 0.42296515410116448,\n",
       " 0.42341350282243573,\n",
       " 0.42341350282243573,\n",
       " 0.42341350282243573,\n",
       " 0.42384374402402003,\n",
       " 0.42467342322922846,\n",
       " 0.42548861828909601,\n",
       " 0.42548861828909607,\n",
       " 0.42563168939236723,\n",
       " 0.42563168939236723,\n",
       " 0.42563168939236717,\n",
       " 0.42569401572380861,\n",
       " 0.42645505416313689,\n",
       " 0.42742891657953025,\n",
       " 0.42820654609813136,\n",
       " 0.42888013430213823,\n",
       " 0.42888013430213823,\n",
       " 0.42925031309268225,\n",
       " 0.43018906969454285,\n",
       " 0.43077811055507009,\n",
       " 0.43116585941488755,\n",
       " 0.43188485022100642,\n",
       " 0.43259085528430297,\n",
       " 0.43331623368582106,\n",
       " 0.43346075354416513,\n",
       " 0.43359498646872618,\n",
       " 0.43428067008009108,\n",
       " 0.43465010625809691,\n",
       " 0.43601135362219651,\n",
       " 0.43631181855329837,\n",
       " 0.43631181855329837,\n",
       " 0.43684391349852009,\n",
       " 0.43786351367879178,\n",
       " 0.43934120738666566,\n",
       " 0.44044341140689319,\n",
       " 0.44113542711509268,\n",
       " 0.44113542711509268,\n",
       " 0.44167897774733605,\n",
       " 0.4434531652073575,\n",
       " 0.4452076770214537,\n",
       " 0.44836362603862467,\n",
       " 0.44943642458257782,\n",
       " 0.45114101637793197,\n",
       " 0.45377720404330701,\n",
       " 0.45625207621159936,\n",
       " 0.46022865213462344,\n",
       " 0.46181112107193734,\n",
       " 0.46244405060637617,\n",
       " 0.46466786153700101,\n",
       " 0.46748918800876704,\n",
       " 0.46911528723165197,\n",
       " 0.47203560894286084,\n",
       " 0.47276266550970042,\n",
       " 0.47542051441719835,\n",
       " 0.47784531039493339,\n",
       " 0.48179283043741661,\n",
       " 0.48485890837868589,\n",
       " 0.48829999942949515,\n",
       " 0.49167991496774199,\n",
       " 0.49323113850545064,\n",
       " 0.49605120066078645,\n",
       " 0.49797411191842117,\n",
       " 0.49914397498777041,\n",
       " 0.50222877175457059,\n",
       " 0.50576800515478293,\n",
       " 0.50830617602529737,\n",
       " 0.51027865703390096,\n",
       " 0.51210992288785884,\n",
       " 0.51503507678449023,\n",
       " 0.51909534056496442,\n",
       " 0.52290477745075847,\n",
       " 0.52421208801617414,\n",
       " 0.52421208801617414,\n",
       " 0.52766369277806069,\n",
       " 0.53093747651317713,\n",
       " 0.53542445502350422,\n",
       " 0.53639085103693618,\n",
       " 0.53639085103693618,\n",
       " 0.53679430136145356,\n",
       " 0.53725790088225767,\n",
       " 0.53848483132530189,\n",
       " 0.5399801540774718,\n",
       " 0.54173683315889043,\n",
       " 0.54306289004218711,\n",
       " 0.54434483415395041,\n",
       " 0.54493454035924005,\n",
       " 0.54664347217119091,\n",
       " 0.54833661794445721,\n",
       " 0.54926545821067896,\n",
       " 0.55055745209500073,\n",
       " 0.55132759464121983,\n",
       " 0.55228194668447073,\n",
       " 0.55330992479932239,\n",
       " 0.55385268733874637,\n",
       " 0.55505837023485283,\n",
       " 0.55590317353442353,\n",
       " 0.55695674963175223,\n",
       " 0.55822197019717046,\n",
       " 0.55984534748999937,\n",
       " 0.56141279516534037,\n",
       " 0.56323532132947429,\n",
       " 0.56528766292795463,\n",
       " 0.56701376153257033,\n",
       " 0.56865321280434433,\n",
       " 0.57046581712861422,\n",
       " 0.57236572707872613,\n",
       " 0.57439580791438116,\n",
       " 0.57681998367858778,\n",
       " 0.57962405089644464,\n",
       " 0.58199302476589687,\n",
       " 0.58424804972371402,\n",
       " 0.58731470411274378,\n",
       " 0.58985207310158483,\n",
       " 0.59236499221522376,\n",
       " 0.594306334557544,\n",
       " 0.59624969348804302,\n",
       " 0.59807455529398035,\n",
       " 0.6001569285235604,\n",
       " 0.60252473098207138,\n",
       " 0.60456291938787488,\n",
       " 0.60709987031243484,\n",
       " 0.60917797800971796,\n",
       " 0.61091511336444082,\n",
       " 0.6129701054170299,\n",
       " 0.61582897401079395,\n",
       " 0.61858410107099682,\n",
       " 0.62170676666803559,\n",
       " 0.62437330154812143,\n",
       " 0.62656701031916529,\n",
       " 0.62745355998334462,\n",
       " 0.62745355998334462,\n",
       " 0.62901381565616865,\n",
       " 0.6318308856355046,\n",
       " 0.63489497884781809,\n",
       " 0.63824119648538957,\n",
       " 0.64088990120297118,\n",
       " 0.64344669115791564,\n",
       " 0.64645897511311867,\n",
       " 0.65049894537997599,\n",
       " 0.65351539532312142,\n",
       " 0.65631583571830909,\n",
       " 0.65907227056563278,\n",
       " 0.66169452173811105,\n",
       " 0.6646235714311447,\n",
       " 0.66764032105612015,\n",
       " 0.67062686799048699,\n",
       " 0.67281440210024424,\n",
       " 0.6752566559061286,\n",
       " 0.67742608155196837,\n",
       " 0.67990270092672778,\n",
       " 0.68241768514328438,\n",
       " 0.68483313251405831,\n",
       " 0.68807090066373222,\n",
       " 0.69087597025998149,\n",
       " 0.69373298363929548,\n",
       " 0.69656916589204909,\n",
       " 0.69909856224755917,\n",
       " 0.70084074840541577,\n",
       " 0.70328690276679184,\n",
       " 0.70613347149424222,\n",
       " 0.70826392602266197,\n",
       " 0.71030248576769406,\n",
       " 0.71285592428741462,\n",
       " 0.71576132883464028,\n",
       " 0.71939166195697202,\n",
       " 0.72264423899322738,\n",
       " 0.72565463353818771,\n",
       " 0.729238654064853,\n",
       " 0.73249555449929638,\n",
       " 0.73621729993056229,\n",
       " 0.7407195560131008,\n",
       " 0.74548890928587186,\n",
       " 0.75019832380556417,\n",
       " 0.75499783298418366,\n",
       " 0.75947785041120941,\n",
       " 0.76523378904201345,\n",
       " 0.77195625339990115,\n",
       " 0.77922746477342397,\n",
       " 0.78594513020433254,\n",
       " 0.79500948903119562,\n",
       " 0.80447442195234942,\n",
       " 0.81357979984199147,\n",
       " 0.8243068023426422,\n",
       " 0.83773962054179796,\n",
       " 0.85661225020009124]"
      ]
     },
     "execution_count": 60,
     "metadata": {},
     "output_type": "execute_result"
    }
   ],
   "source": [
    "percentiles = list()\n",
    "inicio = 0\n",
    "fim = 100\n",
    "salto = 0.25\n",
    "aux = round((fim - inicio)/salto)\n",
    "for i in range(aux):\n",
    "    percentiles.append((inicio +i*salto))\n",
    "Perc = cria_curva(percentiles, df_treino.Prob_Consumo)\n",
    "Perc"
   ]
  },
  {
   "cell_type": "code",
   "execution_count": null,
   "metadata": {
    "collapsed": true
   },
   "outputs": [],
   "source": [
    "df_treino['Prob_Consumo_Grupo'] = [marca_base(Perc, x) for x in df_treino.Prob_Consumo]\n",
    "dict_lista_aux = {'Provisioning' : 'count',\n",
    "                  'Prob_Consumo' : 'min',\n",
    "                  'booking' : 'mean'}\n",
    "RESUMO = df_treino.groupby('Prob_Consumo_Grupo').agg(dict_lista_aux)"
   ]
  },
  {
   "cell_type": "code",
   "execution_count": 46,
   "metadata": {
    "collapsed": false
   },
   "outputs": [
    {
     "ename": "ValueError",
     "evalue": "a must be greater than 0",
     "output_type": "error",
     "traceback": [
      "\u001b[0;31m---------------------------------------------------------------------------\u001b[0m",
      "\u001b[0;31mValueError\u001b[0m                                Traceback (most recent call last)",
      "\u001b[0;32m<ipython-input-46-d7bcfffb7bb5>\u001b[0m in \u001b[0;36m<module>\u001b[0;34m()\u001b[0m\n\u001b[0;32m----> 1\u001b[0;31m \u001b[0mRESUMO\u001b[0m\u001b[1;33m.\u001b[0m\u001b[0msample\u001b[0m\u001b[1;33m(\u001b[0m\u001b[1;33m)\u001b[0m\u001b[1;33m\u001b[0m\u001b[0m\n\u001b[0m",
      "\u001b[0;32mD:\\Users\\felipe.santos\\AppData\\Local\\Continuum\\Anaconda3\\lib\\site-packages\\pandas\\core\\generic.py\u001b[0m in \u001b[0;36msample\u001b[0;34m(self, n, frac, replace, weights, random_state, axis)\u001b[0m\n\u001b[1;32m   2570\u001b[0m                              \"provide positive value.\")\n\u001b[1;32m   2571\u001b[0m \u001b[1;33m\u001b[0m\u001b[0m\n\u001b[0;32m-> 2572\u001b[0;31m         \u001b[0mlocs\u001b[0m \u001b[1;33m=\u001b[0m \u001b[0mrs\u001b[0m\u001b[1;33m.\u001b[0m\u001b[0mchoice\u001b[0m\u001b[1;33m(\u001b[0m\u001b[0maxis_length\u001b[0m\u001b[1;33m,\u001b[0m \u001b[0msize\u001b[0m\u001b[1;33m=\u001b[0m\u001b[0mn\u001b[0m\u001b[1;33m,\u001b[0m \u001b[0mreplace\u001b[0m\u001b[1;33m=\u001b[0m\u001b[0mreplace\u001b[0m\u001b[1;33m,\u001b[0m \u001b[0mp\u001b[0m\u001b[1;33m=\u001b[0m\u001b[0mweights\u001b[0m\u001b[1;33m)\u001b[0m\u001b[1;33m\u001b[0m\u001b[0m\n\u001b[0m\u001b[1;32m   2573\u001b[0m         \u001b[1;32mreturn\u001b[0m \u001b[0mself\u001b[0m\u001b[1;33m.\u001b[0m\u001b[0mtake\u001b[0m\u001b[1;33m(\u001b[0m\u001b[0mlocs\u001b[0m\u001b[1;33m,\u001b[0m \u001b[0maxis\u001b[0m\u001b[1;33m=\u001b[0m\u001b[0maxis\u001b[0m\u001b[1;33m,\u001b[0m \u001b[0mis_copy\u001b[0m\u001b[1;33m=\u001b[0m\u001b[1;32mFalse\u001b[0m\u001b[1;33m)\u001b[0m\u001b[1;33m\u001b[0m\u001b[0m\n\u001b[1;32m   2574\u001b[0m \u001b[1;33m\u001b[0m\u001b[0m\n",
      "\u001b[0;32mmtrand.pyx\u001b[0m in \u001b[0;36mmtrand.RandomState.choice (numpy\\random\\mtrand\\mtrand.c:16430)\u001b[0;34m()\u001b[0m\n",
      "\u001b[0;31mValueError\u001b[0m: a must be greater than 0"
     ]
    }
   ],
   "source": [
    "RESUMO.sample()"
   ]
  },
  {
   "cell_type": "code",
   "execution_count": 39,
   "metadata": {
    "collapsed": true
   },
   "outputs": [],
   "source": [
    "\n",
    "RESUMO.sort_values(['Prob_Consumo'], ascending= 0 ,inplace=True)\n",
    "RESUMO.Prob_Churn = round(RESUMO.Prob_Consumo, ndigits = 2)\n",
    "RESUMO['booking_aux'] = [p*q for p, q in zip (RESUMO.booking, RESUMO.Provisioning)]\n",
    "RESUMO['acumulado'] = RESUMO.Provisioning.cumsum()\n",
    "RESUMO['Prob_acumulado'] = RESUMO.booking_aux.cumsum()\n",
    "RESUMO['booking_acumulado'] = [p/q for p, q in zip (RESUMO.Prob_acumulado, RESUMO.acumulado)]\n",
    "RESUMO['Prob_Consumo_aux'] = [p*q for p, q in zip (RESUMO.Prob_Consumo, RESUMO.Provisioning)]\n",
    "RESUMO['acumulado'] = RESUMO.Provisioning.cumsum()\n",
    "RESUMO['Prob_acumulado'] = RESUMO.Prob_Consumo_aux.cumsum()\n",
    "RESUMO['Prob_Consumo_acumulado'] = [p/q for p, q in zip (RESUMO.Prob_acumulado, RESUMO.acumulado)]\n",
    "\n",
    "RESUMO['Provisioning_perc'] = RESUMO.Provisioning/RESUMO.Provisioning.sum()\n",
    "RESUMO.reset_index(inplace= True)"
   ]
  },
  {
   "cell_type": "code",
   "execution_count": 41,
   "metadata": {
    "collapsed": false,
    "scrolled": true
   },
   "outputs": [
    {
     "ename": "KeyError",
     "evalue": "'the label [0] is not in the [index]'",
     "output_type": "error",
     "traceback": [
      "\u001b[0;31m---------------------------------------------------------------------------\u001b[0m",
      "\u001b[0;31mKeyError\u001b[0m                                  Traceback (most recent call last)",
      "\u001b[0;32mD:\\Users\\felipe.santos\\AppData\\Local\\Continuum\\Anaconda3\\lib\\site-packages\\pandas\\core\\indexing.py\u001b[0m in \u001b[0;36m_has_valid_type\u001b[0;34m(self, key, axis)\u001b[0m\n\u001b[1;32m   1394\u001b[0m                 \u001b[1;32mif\u001b[0m \u001b[0mkey\u001b[0m \u001b[1;32mnot\u001b[0m \u001b[1;32min\u001b[0m \u001b[0max\u001b[0m\u001b[1;33m:\u001b[0m\u001b[1;33m\u001b[0m\u001b[0m\n\u001b[0;32m-> 1395\u001b[0;31m                     \u001b[0merror\u001b[0m\u001b[1;33m(\u001b[0m\u001b[1;33m)\u001b[0m\u001b[1;33m\u001b[0m\u001b[0m\n\u001b[0m\u001b[1;32m   1396\u001b[0m             \u001b[1;32mexcept\u001b[0m \u001b[0mTypeError\u001b[0m \u001b[1;32mas\u001b[0m \u001b[0me\u001b[0m\u001b[1;33m:\u001b[0m\u001b[1;33m\u001b[0m\u001b[0m\n",
      "\u001b[0;32mD:\\Users\\felipe.santos\\AppData\\Local\\Continuum\\Anaconda3\\lib\\site-packages\\pandas\\core\\indexing.py\u001b[0m in \u001b[0;36merror\u001b[0;34m()\u001b[0m\n\u001b[1;32m   1389\u001b[0m                 raise KeyError(\"the label [%s] is not in the [%s]\" %\n\u001b[0;32m-> 1390\u001b[0;31m                                (key, self.obj._get_axis_name(axis)))\n\u001b[0m\u001b[1;32m   1391\u001b[0m \u001b[1;33m\u001b[0m\u001b[0m\n",
      "\u001b[0;31mKeyError\u001b[0m: 'the label [0] is not in the [index]'",
      "\nDuring handling of the above exception, another exception occurred:\n",
      "\u001b[0;31mKeyError\u001b[0m                                  Traceback (most recent call last)",
      "\u001b[0;32m<ipython-input-41-71ac871b0547>\u001b[0m in \u001b[0;36m<module>\u001b[0;34m()\u001b[0m\n\u001b[1;32m      1\u001b[0m \u001b[0mlista\u001b[0m \u001b[1;33m=\u001b[0m \u001b[0mRESUMO\u001b[0m\u001b[1;33m.\u001b[0m\u001b[0mbooking_acumulado\u001b[0m\u001b[1;33m\u001b[0m\u001b[0m\n\u001b[0;32m----> 2\u001b[0;31m \u001b[0mProb_aux1\u001b[0m \u001b[1;33m=\u001b[0m \u001b[0mRESUMO\u001b[0m\u001b[1;33m.\u001b[0m\u001b[0mloc\u001b[0m\u001b[1;33m[\u001b[0m\u001b[1;36m0\u001b[0m\u001b[1;33m]\u001b[0m\u001b[1;33m.\u001b[0m\u001b[0mbooking_acumulado\u001b[0m\u001b[1;33m\u001b[0m\u001b[0m\n\u001b[0m\u001b[1;32m      3\u001b[0m \u001b[0mcurva_indice\u001b[0m \u001b[1;33m=\u001b[0m \u001b[1;33m[\u001b[0m\u001b[1;33m]\u001b[0m\u001b[1;33m\u001b[0m\u001b[0m\n\u001b[1;32m      4\u001b[0m \u001b[1;32mfor\u001b[0m \u001b[0mi\u001b[0m \u001b[1;32min\u001b[0m \u001b[0mrange\u001b[0m\u001b[1;33m(\u001b[0m\u001b[0mlen\u001b[0m\u001b[1;33m(\u001b[0m\u001b[0mlista\u001b[0m\u001b[1;33m)\u001b[0m\u001b[1;33m)\u001b[0m\u001b[1;33m:\u001b[0m\u001b[1;33m\u001b[0m\u001b[0m\n\u001b[1;32m      5\u001b[0m     \u001b[0mProb_aux2\u001b[0m \u001b[1;33m=\u001b[0m \u001b[0mlista\u001b[0m\u001b[1;33m[\u001b[0m\u001b[0mi\u001b[0m\u001b[1;33m]\u001b[0m\u001b[1;33m\u001b[0m\u001b[0m\n",
      "\u001b[0;32mD:\\Users\\felipe.santos\\AppData\\Local\\Continuum\\Anaconda3\\lib\\site-packages\\pandas\\core\\indexing.py\u001b[0m in \u001b[0;36m__getitem__\u001b[0;34m(self, key)\u001b[0m\n\u001b[1;32m   1294\u001b[0m             \u001b[1;32mreturn\u001b[0m \u001b[0mself\u001b[0m\u001b[1;33m.\u001b[0m\u001b[0m_getitem_tuple\u001b[0m\u001b[1;33m(\u001b[0m\u001b[0mkey\u001b[0m\u001b[1;33m)\u001b[0m\u001b[1;33m\u001b[0m\u001b[0m\n\u001b[1;32m   1295\u001b[0m         \u001b[1;32melse\u001b[0m\u001b[1;33m:\u001b[0m\u001b[1;33m\u001b[0m\u001b[0m\n\u001b[0;32m-> 1296\u001b[0;31m             \u001b[1;32mreturn\u001b[0m \u001b[0mself\u001b[0m\u001b[1;33m.\u001b[0m\u001b[0m_getitem_axis\u001b[0m\u001b[1;33m(\u001b[0m\u001b[0mkey\u001b[0m\u001b[1;33m,\u001b[0m \u001b[0maxis\u001b[0m\u001b[1;33m=\u001b[0m\u001b[1;36m0\u001b[0m\u001b[1;33m)\u001b[0m\u001b[1;33m\u001b[0m\u001b[0m\n\u001b[0m\u001b[1;32m   1297\u001b[0m \u001b[1;33m\u001b[0m\u001b[0m\n\u001b[1;32m   1298\u001b[0m     \u001b[1;32mdef\u001b[0m \u001b[0m_getitem_axis\u001b[0m\u001b[1;33m(\u001b[0m\u001b[0mself\u001b[0m\u001b[1;33m,\u001b[0m \u001b[0mkey\u001b[0m\u001b[1;33m,\u001b[0m \u001b[0maxis\u001b[0m\u001b[1;33m=\u001b[0m\u001b[1;36m0\u001b[0m\u001b[1;33m)\u001b[0m\u001b[1;33m:\u001b[0m\u001b[1;33m\u001b[0m\u001b[0m\n",
      "\u001b[0;32mD:\\Users\\felipe.santos\\AppData\\Local\\Continuum\\Anaconda3\\lib\\site-packages\\pandas\\core\\indexing.py\u001b[0m in \u001b[0;36m_getitem_axis\u001b[0;34m(self, key, axis)\u001b[0m\n\u001b[1;32m   1464\u001b[0m \u001b[1;33m\u001b[0m\u001b[0m\n\u001b[1;32m   1465\u001b[0m         \u001b[1;31m# fall thru to straight lookup\u001b[0m\u001b[1;33m\u001b[0m\u001b[1;33m\u001b[0m\u001b[0m\n\u001b[0;32m-> 1466\u001b[0;31m         \u001b[0mself\u001b[0m\u001b[1;33m.\u001b[0m\u001b[0m_has_valid_type\u001b[0m\u001b[1;33m(\u001b[0m\u001b[0mkey\u001b[0m\u001b[1;33m,\u001b[0m \u001b[0maxis\u001b[0m\u001b[1;33m)\u001b[0m\u001b[1;33m\u001b[0m\u001b[0m\n\u001b[0m\u001b[1;32m   1467\u001b[0m         \u001b[1;32mreturn\u001b[0m \u001b[0mself\u001b[0m\u001b[1;33m.\u001b[0m\u001b[0m_get_label\u001b[0m\u001b[1;33m(\u001b[0m\u001b[0mkey\u001b[0m\u001b[1;33m,\u001b[0m \u001b[0maxis\u001b[0m\u001b[1;33m=\u001b[0m\u001b[0maxis\u001b[0m\u001b[1;33m)\u001b[0m\u001b[1;33m\u001b[0m\u001b[0m\n\u001b[1;32m   1468\u001b[0m \u001b[1;33m\u001b[0m\u001b[0m\n",
      "\u001b[0;32mD:\\Users\\felipe.santos\\AppData\\Local\\Continuum\\Anaconda3\\lib\\site-packages\\pandas\\core\\indexing.py\u001b[0m in \u001b[0;36m_has_valid_type\u001b[0;34m(self, key, axis)\u001b[0m\n\u001b[1;32m   1401\u001b[0m                 \u001b[1;32mraise\u001b[0m\u001b[1;33m\u001b[0m\u001b[0m\n\u001b[1;32m   1402\u001b[0m             \u001b[1;32mexcept\u001b[0m\u001b[1;33m:\u001b[0m\u001b[1;33m\u001b[0m\u001b[0m\n\u001b[0;32m-> 1403\u001b[0;31m                 \u001b[0merror\u001b[0m\u001b[1;33m(\u001b[0m\u001b[1;33m)\u001b[0m\u001b[1;33m\u001b[0m\u001b[0m\n\u001b[0m\u001b[1;32m   1404\u001b[0m \u001b[1;33m\u001b[0m\u001b[0m\n\u001b[1;32m   1405\u001b[0m         \u001b[1;32mreturn\u001b[0m \u001b[1;32mTrue\u001b[0m\u001b[1;33m\u001b[0m\u001b[0m\n",
      "\u001b[0;32mD:\\Users\\felipe.santos\\AppData\\Local\\Continuum\\Anaconda3\\lib\\site-packages\\pandas\\core\\indexing.py\u001b[0m in \u001b[0;36merror\u001b[0;34m()\u001b[0m\n\u001b[1;32m   1388\u001b[0m                                     \"key\")\n\u001b[1;32m   1389\u001b[0m                 raise KeyError(\"the label [%s] is not in the [%s]\" %\n\u001b[0;32m-> 1390\u001b[0;31m                                (key, self.obj._get_axis_name(axis)))\n\u001b[0m\u001b[1;32m   1391\u001b[0m \u001b[1;33m\u001b[0m\u001b[0m\n\u001b[1;32m   1392\u001b[0m             \u001b[1;32mtry\u001b[0m\u001b[1;33m:\u001b[0m\u001b[1;33m\u001b[0m\u001b[0m\n",
      "\u001b[0;31mKeyError\u001b[0m: 'the label [0] is not in the [index]'"
     ]
    }
   ],
   "source": [
    "lista = RESUMO.booking_acumulado\n",
    "Prob_aux1 = RESUMO.loc[0].booking_acumulado\n",
    "curva_indice = []\n",
    "for i in range(len(lista)):\n",
    "    Prob_aux2 = lista[i]\n",
    "    if len(curva_indice) < 9 and Prob_aux1/Prob_aux2 >= 1.25:\n",
    "        Prob_aux1 = Prob_aux2 \n",
    "        curva_indice.append(i)           "
   ]
  },
  {
   "cell_type": "code",
   "execution_count": null,
   "metadata": {
    "collapsed": false
   },
   "outputs": [],
   "source": [
    "RESUMO['r1']= RESUMO.FlagChurn_acumulado.loc[curva_indice[0]]\n",
    "RESUMO['r2']= RESUMO.FlagChurn_acumulado.loc[curva_indice[1]]\n",
    "RESUMO['r3']= RESUMO.FlagChurn_acumulado.loc[curva_indice[2]]\n",
    "RESUMO['r4']= RESUMO.FlagChurn_acumulado.loc[curva_indice[3]]\n",
    "RESUMO['r5']= RESUMO.FlagChurn_acumulado.loc[curva_indice[4]]\n",
    "RESUMO['r6']= RESUMO.FlagChurn_acumulado.loc[curva_indice[5]]\n",
    "RESUMO['r7']= RESUMO.FlagChurn_acumulado.loc[curva_indice[6]]\n",
    "RESUMO['r8']= RESUMO.FlagChurn_acumulado.loc[curva_indice[7]]\n",
    "RESUMO['r9']= RESUMO.FlagChurn_acumulado.loc[curva_indice[8]]\n",
    "\n",
    "\n",
    "%matplotlib inline\n",
    "import matplotlib.pyplot as plt\n",
    "\n",
    "RESUMO.FlagChurn_acumulado.plot()\n",
    "RESUMO.FlagChurn.plot()\n",
    "RESUMO.r1.plot()\n",
    "RESUMO.r2.plot()\n",
    "RESUMO.r3.plot()\n",
    "RESUMO.r4.plot()\n",
    "RESUMO.r5.plot()\n",
    "RESUMO.r6.plot()\n",
    "RESUMO.r7.plot()\n",
    "RESUMO.r8.plot()\n",
    "RESUMO.r9.plot()"
   ]
  },
  {
   "cell_type": "code",
   "execution_count": 28,
   "metadata": {
    "collapsed": false
   },
   "outputs": [],
   "source": [
    "Perc = []\n",
    "for i in range(len(curva_indice)):\n",
    "    Perc.append(RESUMO.booking_acumulado.loc[curva_indice[i]])\n",
    "    \n",
    "Perc = Perc[::-1]"
   ]
  },
  {
   "cell_type": "code",
   "execution_count": 29,
   "metadata": {
    "collapsed": false
   },
   "outputs": [],
   "source": [
    "RESUMO['Cluster'] = [marca_base(Perc, x) for x in RESUMO.booking_acumulado]"
   ]
  },
  {
   "cell_type": "code",
   "execution_count": 30,
   "metadata": {
    "collapsed": true
   },
   "outputs": [],
   "source": [
    "RESUMO.reset_index(inplace= True)"
   ]
  },
  {
   "cell_type": "code",
   "execution_count": 31,
   "metadata": {
    "collapsed": false
   },
   "outputs": [],
   "source": [
    "lista = [RESUMO[RESUMO.Cluster == 1].Prob_Consumo_Grupo.max(),\n",
    "         RESUMO[RESUMO.Cluster == 2].Prob_Consumo_Grupo.max(),\n",
    "         RESUMO[RESUMO.Cluster == 3].Prob_Consumo_Grupo.max(),\n",
    "         RESUMO[RESUMO.Cluster == 4].Prob_Consumo_Grupo.max(),\n",
    "         RESUMO[RESUMO.Cluster == 5].Prob_Consumo_Grupo.max(),\n",
    "         RESUMO[RESUMO.Cluster == 6].Prob_Consumo_Grupo.max(),\n",
    "         RESUMO[RESUMO.Cluster == 7].Prob_Consumo_Grupo.max(),\n",
    "         RESUMO[RESUMO.Cluster == 8].Prob_Consumo_Grupo.max(),\n",
    "         RESUMO[RESUMO.Cluster == 9].Prob_Consumo_Grupo.max()]"
   ]
  },
  {
   "cell_type": "code",
   "execution_count": 32,
   "metadata": {
    "collapsed": true
   },
   "outputs": [],
   "source": [
    "df_treino['Cluster'] = [marca_base(lista, x) for x in df_treino.Prob_Consumo_Grupo]"
   ]
  },
  {
   "cell_type": "code",
   "execution_count": 33,
   "metadata": {
    "collapsed": true
   },
   "outputs": [],
   "source": [
    "aux_Cluster = pd.DataFrame(data=df_treino.Cluster.value_counts()) \n",
    "aux_Cluster.sort_index(inplace= True)\n",
    "aux_Cluster['Perc'] = aux_Cluster.Cluster/aux_Cluster.Cluster.sum()"
   ]
  },
  {
   "cell_type": "code",
   "execution_count": 70,
   "metadata": {
    "collapsed": false
   },
   "outputs": [],
   "source": [
    "dict_lista = {'Prob_Consumo' : 'mean',\n",
    "              'booking' : 'mean',\n",
    "              'Provisioning' : 'count',\n",
    "              'nr_PrecoMensal' : 'mean',\n",
    "              'fl_ServicoPai' : 'mean',\n",
    "              'fl_Dev' : 'mean',\n",
    "              'fl_GerenteConta' : 'mean',\n",
    "              'idade_prov' : 'mean',\n",
    "              'idade_cli' : 'mean',\n",
    "              'quantidade_renovacoes_prov' : 'mean',\n",
    "              'Qtd_meses_P_renovacoes' : 'mean',\n",
    "              'FlagChurn' : 'mean'}\n",
    "\n",
    "RESUMO = df_treino.groupby('Cluster').agg(dict_lista)\n",
    "#NomeCSV = 'Prob_Consumo_ResumoTreino.'+str(fim_janela_feature.year)+'_'+str(fim_janela_feature.month)+'_'+str(fim_janela_feature.day)+'.csv'\n",
    "#RESUMO.to_csv(NomeCSV)\n",
    "#RESUMO = pd.read_csv('./'+NomeCSV, error_bad_lines = False, sep=',')"
   ]
  },
  {
   "cell_type": "code",
   "execution_count": 71,
   "metadata": {
    "collapsed": false
   },
   "outputs": [
    {
     "data": {
      "text/plain": [
       "<matplotlib.axes._subplots.AxesSubplot at 0x1c652e80>"
      ]
     },
     "execution_count": 71,
     "metadata": {},
     "output_type": "execute_result"
    },
    {
     "data": {
      "image/png": "[encoded data removed]",
      "text/plain": [
       "<matplotlib.figure.Figure at 0x37364630>"
      ]
     },
     "metadata": {},
     "output_type": "display_data"
    }
   ],
   "source": [
    "import seaborn as sns\n",
    "%matplotlib inline\n",
    "import matplotlib.pyplot as plt\n",
    "sns.heatmap(RESUMO[['booking']], annot=False, linewidths=.5)    "
   ]
  },
  {
   "cell_type": "code",
   "execution_count": 72,
   "metadata": {
    "collapsed": false
   },
   "outputs": [
    {
     "data": {
      "text/html": [
       "<div>\n",
       "<table border=\"1\" class=\"dataframe\">\n",
       "  <thead>\n",
       "    <tr style=\"text-align: right;\">\n",
       "      <th></th>\n",
       "      <th>Qtd_meses_P_renovacoes</th>\n",
       "      <th>fl_GerenteConta</th>\n",
       "      <th>quantidade_renovacoes_prov</th>\n",
       "      <th>fl_Dev</th>\n",
       "      <th>nr_PrecoMensal</th>\n",
       "      <th>Provisioning</th>\n",
       "      <th>idade_prov</th>\n",
       "      <th>Prob_Consumo</th>\n",
       "      <th>FlagChurn</th>\n",
       "      <th>idade_cli</th>\n",
       "      <th>fl_ServicoPai</th>\n",
       "      <th>booking</th>\n",
       "    </tr>\n",
       "    <tr>\n",
       "      <th>Cluster</th>\n",
       "      <th></th>\n",
       "      <th></th>\n",
       "      <th></th>\n",
       "      <th></th>\n",
       "      <th></th>\n",
       "      <th></th>\n",
       "      <th></th>\n",
       "      <th></th>\n",
       "      <th></th>\n",
       "      <th></th>\n",
       "      <th></th>\n",
       "      <th></th>\n",
       "    </tr>\n",
       "  </thead>\n",
       "  <tbody>\n",
       "    <tr>\n",
       "      <th>1</th>\n",
       "      <td>0.121689</td>\n",
       "      <td>0.000000</td>\n",
       "      <td>0.128805</td>\n",
       "      <td>0.000353</td>\n",
       "      <td>0.969465</td>\n",
       "      <td>113350</td>\n",
       "      <td>0.652514</td>\n",
       "      <td>0.176263</td>\n",
       "      <td>0.000000</td>\n",
       "      <td>2.534848</td>\n",
       "      <td>0.029828</td>\n",
       "      <td>0.007622</td>\n",
       "    </tr>\n",
       "    <tr>\n",
       "      <th>2</th>\n",
       "      <td>5.102744</td>\n",
       "      <td>0.000350</td>\n",
       "      <td>3.315390</td>\n",
       "      <td>0.021088</td>\n",
       "      <td>46.208400</td>\n",
       "      <td>59940</td>\n",
       "      <td>20.775676</td>\n",
       "      <td>0.415087</td>\n",
       "      <td>0.000017</td>\n",
       "      <td>41.303629</td>\n",
       "      <td>1.204021</td>\n",
       "      <td>0.017901</td>\n",
       "    </tr>\n",
       "    <tr>\n",
       "      <th>3</th>\n",
       "      <td>3.823878</td>\n",
       "      <td>0.001377</td>\n",
       "      <td>6.004263</td>\n",
       "      <td>0.040507</td>\n",
       "      <td>64.976118</td>\n",
       "      <td>44313</td>\n",
       "      <td>13.948975</td>\n",
       "      <td>0.462865</td>\n",
       "      <td>0.147564</td>\n",
       "      <td>43.829234</td>\n",
       "      <td>1.306163</td>\n",
       "      <td>0.030036</td>\n",
       "    </tr>\n",
       "    <tr>\n",
       "      <th>4</th>\n",
       "      <td>5.480934</td>\n",
       "      <td>0.001488</td>\n",
       "      <td>2.952614</td>\n",
       "      <td>0.044653</td>\n",
       "      <td>74.882949</td>\n",
       "      <td>35608</td>\n",
       "      <td>13.905714</td>\n",
       "      <td>0.546399</td>\n",
       "      <td>0.266485</td>\n",
       "      <td>36.402015</td>\n",
       "      <td>1.650809</td>\n",
       "      <td>0.048304</td>\n",
       "    </tr>\n",
       "    <tr>\n",
       "      <th>5</th>\n",
       "      <td>4.286558</td>\n",
       "      <td>0.007701</td>\n",
       "      <td>7.328947</td>\n",
       "      <td>0.113389</td>\n",
       "      <td>130.492184</td>\n",
       "      <td>25320</td>\n",
       "      <td>16.969744</td>\n",
       "      <td>0.607496</td>\n",
       "      <td>0.651422</td>\n",
       "      <td>54.576565</td>\n",
       "      <td>2.240047</td>\n",
       "      <td>0.068562</td>\n",
       "    </tr>\n",
       "    <tr>\n",
       "      <th>6</th>\n",
       "      <td>4.073215</td>\n",
       "      <td>0.023107</td>\n",
       "      <td>6.769414</td>\n",
       "      <td>0.281983</td>\n",
       "      <td>228.497455</td>\n",
       "      <td>16618</td>\n",
       "      <td>16.140325</td>\n",
       "      <td>0.669359</td>\n",
       "      <td>1.126128</td>\n",
       "      <td>60.263003</td>\n",
       "      <td>3.314960</td>\n",
       "      <td>0.091948</td>\n",
       "    </tr>\n",
       "    <tr>\n",
       "      <th>7</th>\n",
       "      <td>4.447367</td>\n",
       "      <td>0.098157</td>\n",
       "      <td>5.654228</td>\n",
       "      <td>0.662349</td>\n",
       "      <td>390.220296</td>\n",
       "      <td>9495</td>\n",
       "      <td>14.952038</td>\n",
       "      <td>0.727942</td>\n",
       "      <td>2.209584</td>\n",
       "      <td>65.330938</td>\n",
       "      <td>5.401053</td>\n",
       "      <td>0.116272</td>\n",
       "    </tr>\n",
       "    <tr>\n",
       "      <th>8</th>\n",
       "      <td>4.220484</td>\n",
       "      <td>0.221881</td>\n",
       "      <td>5.876240</td>\n",
       "      <td>0.892219</td>\n",
       "      <td>484.625750</td>\n",
       "      <td>5539</td>\n",
       "      <td>13.671171</td>\n",
       "      <td>0.775068</td>\n",
       "      <td>1.908467</td>\n",
       "      <td>66.130779</td>\n",
       "      <td>5.384004</td>\n",
       "      <td>0.156888</td>\n",
       "    </tr>\n",
       "    <tr>\n",
       "      <th>9</th>\n",
       "      <td>4.373780</td>\n",
       "      <td>0.874882</td>\n",
       "      <td>5.205163</td>\n",
       "      <td>2.183254</td>\n",
       "      <td>865.359039</td>\n",
       "      <td>3165</td>\n",
       "      <td>13.776887</td>\n",
       "      <td>0.813302</td>\n",
       "      <td>3.675197</td>\n",
       "      <td>74.553199</td>\n",
       "      <td>8.841390</td>\n",
       "      <td>0.203160</td>\n",
       "    </tr>\n",
       "    <tr>\n",
       "      <th>10</th>\n",
       "      <td>4.556413</td>\n",
       "      <td>1.484839</td>\n",
       "      <td>4.642613</td>\n",
       "      <td>3.996841</td>\n",
       "      <td>1239.493452</td>\n",
       "      <td>3166</td>\n",
       "      <td>12.769634</td>\n",
       "      <td>0.860141</td>\n",
       "      <td>5.093493</td>\n",
       "      <td>74.526373</td>\n",
       "      <td>13.492104</td>\n",
       "      <td>0.332596</td>\n",
       "    </tr>\n",
       "  </tbody>\n",
       "</table>\n",
       "</div>"
      ],
      "text/plain": [
       "         Qtd_meses_P_renovacoes  fl_GerenteConta  quantidade_renovacoes_prov  \\\n",
       "Cluster                                                                        \n",
       "1                      0.121689         0.000000                    0.128805   \n",
       "2                      5.102744         0.000350                    3.315390   \n",
       "3                      3.823878         0.001377                    6.004263   \n",
       "4                      5.480934         0.001488                    2.952614   \n",
       "5                      4.286558         0.007701                    7.328947   \n",
       "6                      4.073215         0.023107                    6.769414   \n",
       "7                      4.447367         0.098157                    5.654228   \n",
       "8                      4.220484         0.221881                    5.876240   \n",
       "9                      4.373780         0.874882                    5.205163   \n",
       "10                     4.556413         1.484839                    4.642613   \n",
       "\n",
       "           fl_Dev  nr_PrecoMensal  Provisioning  idade_prov  Prob_Consumo  \\\n",
       "Cluster                                                                     \n",
       "1        0.000353        0.969465        113350    0.652514      0.176263   \n",
       "2        0.021088       46.208400         59940   20.775676      0.415087   \n",
       "3        0.040507       64.976118         44313   13.948975      0.462865   \n",
       "4        0.044653       74.882949         35608   13.905714      0.546399   \n",
       "5        0.113389      130.492184         25320   16.969744      0.607496   \n",
       "6        0.281983      228.497455         16618   16.140325      0.669359   \n",
       "7        0.662349      390.220296          9495   14.952038      0.727942   \n",
       "8        0.892219      484.625750          5539   13.671171      0.775068   \n",
       "9        2.183254      865.359039          3165   13.776887      0.813302   \n",
       "10       3.996841     1239.493452          3166   12.769634      0.860141   \n",
       "\n",
       "         FlagChurn  idade_cli  fl_ServicoPai   booking  \n",
       "Cluster                                                 \n",
       "1         0.000000   2.534848       0.029828  0.007622  \n",
       "2         0.000017  41.303629       1.204021  0.017901  \n",
       "3         0.147564  43.829234       1.306163  0.030036  \n",
       "4         0.266485  36.402015       1.650809  0.048304  \n",
       "5         0.651422  54.576565       2.240047  0.068562  \n",
       "6         1.126128  60.263003       3.314960  0.091948  \n",
       "7         2.209584  65.330938       5.401053  0.116272  \n",
       "8         1.908467  66.130779       5.384004  0.156888  \n",
       "9         3.675197  74.553199       8.841390  0.203160  \n",
       "10        5.093493  74.526373      13.492104  0.332596  "
      ]
     },
     "execution_count": 72,
     "metadata": {},
     "output_type": "execute_result"
    }
   ],
   "source": [
    "RESUMO"
   ]
  },
  {
   "cell_type": "code",
   "execution_count": 73,
   "metadata": {
    "collapsed": false
   },
   "outputs": [
    {
     "data": {
      "text/plain": [
       "<matplotlib.axes._subplots.AxesSubplot at 0x2a7eecf8>"
      ]
     },
     "execution_count": 73,
     "metadata": {},
     "output_type": "execute_result"
    },
    {
     "data": {
      "image/png": "[encoded data removed]",
      "text/plain": [
       "<matplotlib.figure.Figure at 0x36070898>"
      ]
     },
     "metadata": {},
     "output_type": "display_data"
    }
   ],
   "source": [
    "RESUMO.drop('booking', axis = 1, inplace=  True)\n",
    "colunas = RESUMO.columns\n",
    "RESUMO = scaler.fit_transform(RESUMO)\n",
    "RESUMO = pd.DataFrame(data=RESUMO)\n",
    "RESUMO.columns = colunas\n",
    "RESUMO\n",
    "sns.heatmap(RESUMO, annot=False, linewidths=.5)    "
   ]
  },
  {
   "cell_type": "code",
   "execution_count": 91,
   "metadata": {
    "collapsed": false
   },
   "outputs": [],
   "source": [
    "colunas = list()\n",
    "for i in df_treino.columns: \n",
    "    if i[:8] == 'Servico_':\n",
    "        colunas.append(i)"
   ]
  },
  {
   "cell_type": "code",
   "execution_count": 96,
   "metadata": {
    "collapsed": true
   },
   "outputs": [],
   "source": [
    "dict_colunas = {str(i): 'mean' for i in colunas}\n",
    "RESUMO = df_treino.groupby('Cluster').agg(dict_colunas)"
   ]
  },
  {
   "cell_type": "code",
   "execution_count": 98,
   "metadata": {
    "collapsed": false
   },
   "outputs": [
    {
     "data": {
      "text/html": [
       "<div>\n",
       "<table border=\"1\" class=\"dataframe\">\n",
       "  <thead>\n",
       "    <tr style=\"text-align: right;\">\n",
       "      <th>Cluster</th>\n",
       "      <th>1</th>\n",
       "      <th>2</th>\n",
       "      <th>3</th>\n",
       "      <th>4</th>\n",
       "      <th>5</th>\n",
       "      <th>6</th>\n",
       "      <th>7</th>\n",
       "      <th>8</th>\n",
       "      <th>9</th>\n",
       "      <th>10</th>\n",
       "    </tr>\n",
       "  </thead>\n",
       "  <tbody>\n",
       "    <tr>\n",
       "      <th>Servico_Registro Dominio</th>\n",
       "      <td>0.574354</td>\n",
       "      <td>0.336119</td>\n",
       "      <td>0.451583</td>\n",
       "      <td>0.656706</td>\n",
       "      <td>0.950553</td>\n",
       "      <td>1.656938</td>\n",
       "      <td>3.440126</td>\n",
       "      <td>3.027622</td>\n",
       "      <td>6.019589</td>\n",
       "      <td>9.829754</td>\n",
       "    </tr>\n",
       "    <tr>\n",
       "      <th>Servico_Google Apps</th>\n",
       "      <td>0.001120</td>\n",
       "      <td>0.000417</td>\n",
       "      <td>0.004197</td>\n",
       "      <td>0.003230</td>\n",
       "      <td>0.005213</td>\n",
       "      <td>0.006258</td>\n",
       "      <td>0.009163</td>\n",
       "      <td>0.012457</td>\n",
       "      <td>0.008215</td>\n",
       "      <td>0.026216</td>\n",
       "    </tr>\n",
       "    <tr>\n",
       "      <th>Servico_Licencas - Cloud</th>\n",
       "      <td>0.003855</td>\n",
       "      <td>0.000200</td>\n",
       "      <td>0.000429</td>\n",
       "      <td>0.000309</td>\n",
       "      <td>0.000869</td>\n",
       "      <td>0.003671</td>\n",
       "      <td>0.009900</td>\n",
       "      <td>0.022387</td>\n",
       "      <td>0.036967</td>\n",
       "      <td>0.072647</td>\n",
       "    </tr>\n",
       "    <tr>\n",
       "      <th>Servico_Email MKT</th>\n",
       "      <td>0.134892</td>\n",
       "      <td>0.007925</td>\n",
       "      <td>0.067226</td>\n",
       "      <td>0.034683</td>\n",
       "      <td>0.180174</td>\n",
       "      <td>0.309424</td>\n",
       "      <td>0.331543</td>\n",
       "      <td>0.473190</td>\n",
       "      <td>0.490995</td>\n",
       "      <td>0.577701</td>\n",
       "    </tr>\n",
       "    <tr>\n",
       "      <th>Servico_Cloud Server Pro</th>\n",
       "      <td>0.121235</td>\n",
       "      <td>0.002936</td>\n",
       "      <td>0.014668</td>\n",
       "      <td>0.013143</td>\n",
       "      <td>0.044155</td>\n",
       "      <td>0.142255</td>\n",
       "      <td>0.306372</td>\n",
       "      <td>0.601553</td>\n",
       "      <td>1.061927</td>\n",
       "      <td>1.455148</td>\n",
       "    </tr>\n",
       "    <tr>\n",
       "      <th>Servico_WR</th>\n",
       "      <td>0.012607</td>\n",
       "      <td>0.006657</td>\n",
       "      <td>0.020603</td>\n",
       "      <td>0.010251</td>\n",
       "      <td>0.031003</td>\n",
       "      <td>0.042604</td>\n",
       "      <td>0.048868</td>\n",
       "      <td>0.062286</td>\n",
       "      <td>0.075513</td>\n",
       "      <td>0.126658</td>\n",
       "    </tr>\n",
       "    <tr>\n",
       "      <th>Servico_Cloud VPS</th>\n",
       "      <td>0.008187</td>\n",
       "      <td>0.000884</td>\n",
       "      <td>0.011419</td>\n",
       "      <td>0.003960</td>\n",
       "      <td>0.006754</td>\n",
       "      <td>0.011253</td>\n",
       "      <td>0.016640</td>\n",
       "      <td>0.021484</td>\n",
       "      <td>0.025276</td>\n",
       "      <td>0.075490</td>\n",
       "    </tr>\n",
       "    <tr>\n",
       "      <th>Servico_Hospedagem</th>\n",
       "      <td>0.558571</td>\n",
       "      <td>0.787671</td>\n",
       "      <td>0.624896</td>\n",
       "      <td>0.749045</td>\n",
       "      <td>0.801303</td>\n",
       "      <td>1.000842</td>\n",
       "      <td>1.189995</td>\n",
       "      <td>1.322802</td>\n",
       "      <td>1.646761</td>\n",
       "      <td>2.015477</td>\n",
       "    </tr>\n",
       "    <tr>\n",
       "      <th>Servico_SSL</th>\n",
       "      <td>0.000168</td>\n",
       "      <td>0.000033</td>\n",
       "      <td>0.000045</td>\n",
       "      <td>0.000899</td>\n",
       "      <td>0.013586</td>\n",
       "      <td>0.007101</td>\n",
       "      <td>0.023381</td>\n",
       "      <td>0.029067</td>\n",
       "      <td>0.030016</td>\n",
       "      <td>0.085281</td>\n",
       "    </tr>\n",
       "    <tr>\n",
       "      <th>Servico_Email</th>\n",
       "      <td>0.047993</td>\n",
       "      <td>0.068302</td>\n",
       "      <td>0.072575</td>\n",
       "      <td>0.103207</td>\n",
       "      <td>0.142180</td>\n",
       "      <td>0.176676</td>\n",
       "      <td>0.226435</td>\n",
       "      <td>0.259975</td>\n",
       "      <td>0.351027</td>\n",
       "      <td>0.387555</td>\n",
       "    </tr>\n",
       "    <tr>\n",
       "      <th>Servico_WebDesk</th>\n",
       "      <td>0.002620</td>\n",
       "      <td>0.000284</td>\n",
       "      <td>0.000496</td>\n",
       "      <td>0.000506</td>\n",
       "      <td>0.003515</td>\n",
       "      <td>0.003310</td>\n",
       "      <td>0.006846</td>\n",
       "      <td>0.004875</td>\n",
       "      <td>0.010742</td>\n",
       "      <td>0.009160</td>\n",
       "    </tr>\n",
       "    <tr>\n",
       "      <th>Servico_Google Adwords</th>\n",
       "      <td>0.003688</td>\n",
       "      <td>0.000184</td>\n",
       "      <td>0.000271</td>\n",
       "      <td>0.000309</td>\n",
       "      <td>0.003436</td>\n",
       "      <td>0.005356</td>\n",
       "      <td>0.004739</td>\n",
       "      <td>0.002528</td>\n",
       "      <td>0.005687</td>\n",
       "      <td>0.011687</td>\n",
       "    </tr>\n",
       "    <tr>\n",
       "      <th>Servico_Licencas - Dedicado</th>\n",
       "      <td>0.044940</td>\n",
       "      <td>0.000684</td>\n",
       "      <td>0.005619</td>\n",
       "      <td>0.004156</td>\n",
       "      <td>0.010624</td>\n",
       "      <td>0.034902</td>\n",
       "      <td>0.092259</td>\n",
       "      <td>0.224409</td>\n",
       "      <td>0.385466</td>\n",
       "      <td>0.495894</td>\n",
       "    </tr>\n",
       "    <tr>\n",
       "      <th>Servico_Gateway Pagtos</th>\n",
       "      <td>0.002091</td>\n",
       "      <td>0.000184</td>\n",
       "      <td>0.001760</td>\n",
       "      <td>0.002275</td>\n",
       "      <td>0.010427</td>\n",
       "      <td>0.014141</td>\n",
       "      <td>0.019379</td>\n",
       "      <td>0.026720</td>\n",
       "      <td>0.034439</td>\n",
       "      <td>0.034744</td>\n",
       "    </tr>\n",
       "    <tr>\n",
       "      <th>Servico_Exchange</th>\n",
       "      <td>0.023502</td>\n",
       "      <td>0.011545</td>\n",
       "      <td>0.032699</td>\n",
       "      <td>0.039373</td>\n",
       "      <td>0.075987</td>\n",
       "      <td>0.119449</td>\n",
       "      <td>0.138389</td>\n",
       "      <td>0.163206</td>\n",
       "      <td>0.192101</td>\n",
       "      <td>0.312382</td>\n",
       "    </tr>\n",
       "    <tr>\n",
       "      <th>Servico_Jelastic</th>\n",
       "      <td>0.000000</td>\n",
       "      <td>0.000000</td>\n",
       "      <td>0.000000</td>\n",
       "      <td>0.000000</td>\n",
       "      <td>0.000039</td>\n",
       "      <td>0.000060</td>\n",
       "      <td>0.000000</td>\n",
       "      <td>0.000000</td>\n",
       "      <td>0.000000</td>\n",
       "      <td>0.000000</td>\n",
       "    </tr>\n",
       "    <tr>\n",
       "      <th>Servico_Revenda EMKT</th>\n",
       "      <td>0.001967</td>\n",
       "      <td>0.000100</td>\n",
       "      <td>0.000812</td>\n",
       "      <td>0.000421</td>\n",
       "      <td>0.001580</td>\n",
       "      <td>0.004934</td>\n",
       "      <td>0.006003</td>\n",
       "      <td>0.009027</td>\n",
       "      <td>0.019589</td>\n",
       "      <td>0.018951</td>\n",
       "    </tr>\n",
       "    <tr>\n",
       "      <th>Servico_One Drive</th>\n",
       "      <td>0.007137</td>\n",
       "      <td>0.000717</td>\n",
       "      <td>0.001083</td>\n",
       "      <td>0.003510</td>\n",
       "      <td>0.012559</td>\n",
       "      <td>0.009869</td>\n",
       "      <td>0.010532</td>\n",
       "      <td>0.010832</td>\n",
       "      <td>0.010742</td>\n",
       "      <td>0.012634</td>\n",
       "    </tr>\n",
       "    <tr>\n",
       "      <th>Servico_Revenda Hosp.</th>\n",
       "      <td>0.050366</td>\n",
       "      <td>0.003770</td>\n",
       "      <td>0.057071</td>\n",
       "      <td>0.019771</td>\n",
       "      <td>0.069471</td>\n",
       "      <td>0.102600</td>\n",
       "      <td>0.135545</td>\n",
       "      <td>0.171692</td>\n",
       "      <td>0.183254</td>\n",
       "      <td>0.256159</td>\n",
       "    </tr>\n",
       "    <tr>\n",
       "      <th>Servico_Windows Streaming</th>\n",
       "      <td>0.000194</td>\n",
       "      <td>0.000000</td>\n",
       "      <td>0.000203</td>\n",
       "      <td>0.000253</td>\n",
       "      <td>0.000869</td>\n",
       "      <td>0.001444</td>\n",
       "      <td>0.002528</td>\n",
       "      <td>0.003250</td>\n",
       "      <td>0.003476</td>\n",
       "      <td>0.004422</td>\n",
       "    </tr>\n",
       "    <tr>\n",
       "      <th>Servico_Orago</th>\n",
       "      <td>0.003855</td>\n",
       "      <td>0.000133</td>\n",
       "      <td>0.000135</td>\n",
       "      <td>0.000449</td>\n",
       "      <td>0.002133</td>\n",
       "      <td>0.002888</td>\n",
       "      <td>0.005055</td>\n",
       "      <td>0.003250</td>\n",
       "      <td>0.004107</td>\n",
       "      <td>0.007896</td>\n",
       "    </tr>\n",
       "    <tr>\n",
       "      <th>Servico_Descontinuados</th>\n",
       "      <td>0.000503</td>\n",
       "      <td>0.000150</td>\n",
       "      <td>0.001016</td>\n",
       "      <td>0.001067</td>\n",
       "      <td>0.002291</td>\n",
       "      <td>0.003490</td>\n",
       "      <td>0.004002</td>\n",
       "      <td>0.004875</td>\n",
       "      <td>0.007899</td>\n",
       "      <td>0.011055</td>\n",
       "    </tr>\n",
       "    <tr>\n",
       "      <th>Servico_STREAMING_AUDIO_VIDEO</th>\n",
       "      <td>0.001694</td>\n",
       "      <td>0.000050</td>\n",
       "      <td>0.000835</td>\n",
       "      <td>0.000337</td>\n",
       "      <td>0.001264</td>\n",
       "      <td>0.002287</td>\n",
       "      <td>0.004107</td>\n",
       "      <td>0.004152</td>\n",
       "      <td>0.007267</td>\n",
       "      <td>0.011371</td>\n",
       "    </tr>\n",
       "    <tr>\n",
       "      <th>Servico_GestÃ£o Personalizada</th>\n",
       "      <td>0.004349</td>\n",
       "      <td>0.000284</td>\n",
       "      <td>0.001580</td>\n",
       "      <td>0.001236</td>\n",
       "      <td>0.007662</td>\n",
       "      <td>0.026838</td>\n",
       "      <td>0.048868</td>\n",
       "      <td>0.092977</td>\n",
       "      <td>0.169352</td>\n",
       "      <td>0.255212</td>\n",
       "    </tr>\n",
       "    <tr>\n",
       "      <th>Servico_WebStore</th>\n",
       "      <td>0.000679</td>\n",
       "      <td>0.000000</td>\n",
       "      <td>0.000226</td>\n",
       "      <td>0.000309</td>\n",
       "      <td>0.002370</td>\n",
       "      <td>0.002467</td>\n",
       "      <td>0.003686</td>\n",
       "      <td>0.002708</td>\n",
       "      <td>0.005371</td>\n",
       "      <td>0.006001</td>\n",
       "    </tr>\n",
       "    <tr>\n",
       "      <th>Servico_Schedulista</th>\n",
       "      <td>0.000229</td>\n",
       "      <td>0.000000</td>\n",
       "      <td>0.000023</td>\n",
       "      <td>0.000028</td>\n",
       "      <td>0.000158</td>\n",
       "      <td>0.000000</td>\n",
       "      <td>0.000000</td>\n",
       "      <td>0.000181</td>\n",
       "      <td>0.000000</td>\n",
       "      <td>0.000000</td>\n",
       "    </tr>\n",
       "    <tr>\n",
       "      <th>Servico_Independente Cloud - Dedicado</th>\n",
       "      <td>0.000079</td>\n",
       "      <td>0.000017</td>\n",
       "      <td>0.000000</td>\n",
       "      <td>0.000028</td>\n",
       "      <td>0.000000</td>\n",
       "      <td>0.000060</td>\n",
       "      <td>0.000105</td>\n",
       "      <td>0.000361</td>\n",
       "      <td>0.000000</td>\n",
       "      <td>0.004422</td>\n",
       "    </tr>\n",
       "    <tr>\n",
       "      <th>Servico_Parcerias</th>\n",
       "      <td>0.000053</td>\n",
       "      <td>0.000000</td>\n",
       "      <td>0.000023</td>\n",
       "      <td>0.000000</td>\n",
       "      <td>0.000118</td>\n",
       "      <td>0.000000</td>\n",
       "      <td>0.000105</td>\n",
       "      <td>0.000361</td>\n",
       "      <td>0.000000</td>\n",
       "      <td>0.000000</td>\n",
       "    </tr>\n",
       "    <tr>\n",
       "      <th>Servico_SMTP</th>\n",
       "      <td>0.011557</td>\n",
       "      <td>0.002970</td>\n",
       "      <td>0.020491</td>\n",
       "      <td>0.012722</td>\n",
       "      <td>0.029937</td>\n",
       "      <td>0.051871</td>\n",
       "      <td>0.065403</td>\n",
       "      <td>0.103809</td>\n",
       "      <td>0.121011</td>\n",
       "      <td>0.195515</td>\n",
       "    </tr>\n",
       "    <tr>\n",
       "      <th>Servico_WebChat</th>\n",
       "      <td>0.000088</td>\n",
       "      <td>0.000033</td>\n",
       "      <td>0.000000</td>\n",
       "      <td>0.000028</td>\n",
       "      <td>0.000039</td>\n",
       "      <td>0.000120</td>\n",
       "      <td>0.000737</td>\n",
       "      <td>0.000361</td>\n",
       "      <td>0.000000</td>\n",
       "      <td>0.000000</td>\n",
       "    </tr>\n",
       "    <tr>\n",
       "      <th>Servico_PABX Virtual</th>\n",
       "      <td>0.000018</td>\n",
       "      <td>0.000000</td>\n",
       "      <td>0.000023</td>\n",
       "      <td>0.000028</td>\n",
       "      <td>0.000000</td>\n",
       "      <td>0.000000</td>\n",
       "      <td>0.000000</td>\n",
       "      <td>0.000000</td>\n",
       "      <td>0.000000</td>\n",
       "      <td>0.000000</td>\n",
       "    </tr>\n",
       "    <tr>\n",
       "      <th>Servico_Servidor Dedicado</th>\n",
       "      <td>0.006220</td>\n",
       "      <td>0.000801</td>\n",
       "      <td>0.001173</td>\n",
       "      <td>0.001517</td>\n",
       "      <td>0.003239</td>\n",
       "      <td>0.013540</td>\n",
       "      <td>0.036651</td>\n",
       "      <td>0.066799</td>\n",
       "      <td>0.198104</td>\n",
       "      <td>0.244473</td>\n",
       "    </tr>\n",
       "    <tr>\n",
       "      <th>Servico_Backup de Sites</th>\n",
       "      <td>0.000529</td>\n",
       "      <td>0.000250</td>\n",
       "      <td>0.000406</td>\n",
       "      <td>0.001573</td>\n",
       "      <td>0.001185</td>\n",
       "      <td>0.002648</td>\n",
       "      <td>0.004002</td>\n",
       "      <td>0.006680</td>\n",
       "      <td>0.005371</td>\n",
       "      <td>0.018004</td>\n",
       "    </tr>\n",
       "    <tr>\n",
       "      <th>Servico_PABX Virtual</th>\n",
       "      <td>0.039144</td>\n",
       "      <td>0.002703</td>\n",
       "      <td>0.021235</td>\n",
       "      <td>0.012947</td>\n",
       "      <td>0.034202</td>\n",
       "      <td>0.056204</td>\n",
       "      <td>0.113007</td>\n",
       "      <td>0.124571</td>\n",
       "      <td>0.176935</td>\n",
       "      <td>0.240051</td>\n",
       "    </tr>\n",
       "  </tbody>\n",
       "</table>\n",
       "</div>"
      ],
      "text/plain": [
       "Cluster                                      1         2         3         4   \\\n",
       "Servico_Registro Dominio               0.574354  0.336119  0.451583  0.656706   \n",
       "Servico_Google Apps                    0.001120  0.000417  0.004197  0.003230   \n",
       "Servico_Licencas - Cloud               0.003855  0.000200  0.000429  0.000309   \n",
       "Servico_Email MKT                      0.134892  0.007925  0.067226  0.034683   \n",
       "Servico_Cloud Server Pro               0.121235  0.002936  0.014668  0.013143   \n",
       "Servico_WR                             0.012607  0.006657  0.020603  0.010251   \n",
       "Servico_Cloud VPS                      0.008187  0.000884  0.011419  0.003960   \n",
       "Servico_Hospedagem                     0.558571  0.787671  0.624896  0.749045   \n",
       "Servico_SSL                            0.000168  0.000033  0.000045  0.000899   \n",
       "Servico_Email                          0.047993  0.068302  0.072575  0.103207   \n",
       "Servico_WebDesk                        0.002620  0.000284  0.000496  0.000506   \n",
       "Servico_Google Adwords                 0.003688  0.000184  0.000271  0.000309   \n",
       "Servico_Licencas - Dedicado            0.044940  0.000684  0.005619  0.004156   \n",
       "Servico_Gateway Pagtos                 0.002091  0.000184  0.001760  0.002275   \n",
       "Servico_Exchange                       0.023502  0.011545  0.032699  0.039373   \n",
       "Servico_Jelastic                       0.000000  0.000000  0.000000  0.000000   \n",
       "Servico_Revenda EMKT                   0.001967  0.000100  0.000812  0.000421   \n",
       "Servico_One Drive                      0.007137  0.000717  0.001083  0.003510   \n",
       "Servico_Revenda Hosp.                  0.050366  0.003770  0.057071  0.019771   \n",
       "Servico_Windows Streaming              0.000194  0.000000  0.000203  0.000253   \n",
       "Servico_Orago                          0.003855  0.000133  0.000135  0.000449   \n",
       "Servico_Descontinuados                 0.000503  0.000150  0.001016  0.001067   \n",
       "Servico_STREAMING_AUDIO_VIDEO          0.001694  0.000050  0.000835  0.000337   \n",
       "Servico_GestÃ£o Personalizada          0.004349  0.000284  0.001580  0.001236   \n",
       "Servico_WebStore                       0.000679  0.000000  0.000226  0.000309   \n",
       "Servico_Schedulista                    0.000229  0.000000  0.000023  0.000028   \n",
       "Servico_Independente Cloud - Dedicado  0.000079  0.000017  0.000000  0.000028   \n",
       "Servico_Parcerias                      0.000053  0.000000  0.000023  0.000000   \n",
       "Servico_SMTP                           0.011557  0.002970  0.020491  0.012722   \n",
       "Servico_WebChat                        0.000088  0.000033  0.000000  0.000028   \n",
       "Servico_PABX Virtual                   0.000018  0.000000  0.000023  0.000028   \n",
       "Servico_Servidor Dedicado              0.006220  0.000801  0.001173  0.001517   \n",
       "Servico_Backup de Sites                0.000529  0.000250  0.000406  0.001573   \n",
       "Servico_PABX Virtual                   0.039144  0.002703  0.021235  0.012947   \n",
       "\n",
       "Cluster                                      5         6         7         8   \\\n",
       "Servico_Registro Dominio               0.950553  1.656938  3.440126  3.027622   \n",
       "Servico_Google Apps                    0.005213  0.006258  0.009163  0.012457   \n",
       "Servico_Licencas - Cloud               0.000869  0.003671  0.009900  0.022387   \n",
       "Servico_Email MKT                      0.180174  0.309424  0.331543  0.473190   \n",
       "Servico_Cloud Server Pro               0.044155  0.142255  0.306372  0.601553   \n",
       "Servico_WR                             0.031003  0.042604  0.048868  0.062286   \n",
       "Servico_Cloud VPS                      0.006754  0.011253  0.016640  0.021484   \n",
       "Servico_Hospedagem                     0.801303  1.000842  1.189995  1.322802   \n",
       "Servico_SSL                            0.013586  0.007101  0.023381  0.029067   \n",
       "Servico_Email                          0.142180  0.176676  0.226435  0.259975   \n",
       "Servico_WebDesk                        0.003515  0.003310  0.006846  0.004875   \n",
       "Servico_Google Adwords                 0.003436  0.005356  0.004739  0.002528   \n",
       "Servico_Licencas - Dedicado            0.010624  0.034902  0.092259  0.224409   \n",
       "Servico_Gateway Pagtos                 0.010427  0.014141  0.019379  0.026720   \n",
       "Servico_Exchange                       0.075987  0.119449  0.138389  0.163206   \n",
       "Servico_Jelastic                       0.000039  0.000060  0.000000  0.000000   \n",
       "Servico_Revenda EMKT                   0.001580  0.004934  0.006003  0.009027   \n",
       "Servico_One Drive                      0.012559  0.009869  0.010532  0.010832   \n",
       "Servico_Revenda Hosp.                  0.069471  0.102600  0.135545  0.171692   \n",
       "Servico_Windows Streaming              0.000869  0.001444  0.002528  0.003250   \n",
       "Servico_Orago                          0.002133  0.002888  0.005055  0.003250   \n",
       "Servico_Descontinuados                 0.002291  0.003490  0.004002  0.004875   \n",
       "Servico_STREAMING_AUDIO_VIDEO          0.001264  0.002287  0.004107  0.004152   \n",
       "Servico_GestÃ£o Personalizada          0.007662  0.026838  0.048868  0.092977   \n",
       "Servico_WebStore                       0.002370  0.002467  0.003686  0.002708   \n",
       "Servico_Schedulista                    0.000158  0.000000  0.000000  0.000181   \n",
       "Servico_Independente Cloud - Dedicado  0.000000  0.000060  0.000105  0.000361   \n",
       "Servico_Parcerias                      0.000118  0.000000  0.000105  0.000361   \n",
       "Servico_SMTP                           0.029937  0.051871  0.065403  0.103809   \n",
       "Servico_WebChat                        0.000039  0.000120  0.000737  0.000361   \n",
       "Servico_PABX Virtual                   0.000000  0.000000  0.000000  0.000000   \n",
       "Servico_Servidor Dedicado              0.003239  0.013540  0.036651  0.066799   \n",
       "Servico_Backup de Sites                0.001185  0.002648  0.004002  0.006680   \n",
       "Servico_PABX Virtual                   0.034202  0.056204  0.113007  0.124571   \n",
       "\n",
       "Cluster                                      9         10  \n",
       "Servico_Registro Dominio               6.019589  9.829754  \n",
       "Servico_Google Apps                    0.008215  0.026216  \n",
       "Servico_Licencas - Cloud               0.036967  0.072647  \n",
       "Servico_Email MKT                      0.490995  0.577701  \n",
       "Servico_Cloud Server Pro               1.061927  1.455148  \n",
       "Servico_WR                             0.075513  0.126658  \n",
       "Servico_Cloud VPS                      0.025276  0.075490  \n",
       "Servico_Hospedagem                     1.646761  2.015477  \n",
       "Servico_SSL                            0.030016  0.085281  \n",
       "Servico_Email                          0.351027  0.387555  \n",
       "Servico_WebDesk                        0.010742  0.009160  \n",
       "Servico_Google Adwords                 0.005687  0.011687  \n",
       "Servico_Licencas - Dedicado            0.385466  0.495894  \n",
       "Servico_Gateway Pagtos                 0.034439  0.034744  \n",
       "Servico_Exchange                       0.192101  0.312382  \n",
       "Servico_Jelastic                       0.000000  0.000000  \n",
       "Servico_Revenda EMKT                   0.019589  0.018951  \n",
       "Servico_One Drive                      0.010742  0.012634  \n",
       "Servico_Revenda Hosp.                  0.183254  0.256159  \n",
       "Servico_Windows Streaming              0.003476  0.004422  \n",
       "Servico_Orago                          0.004107  0.007896  \n",
       "Servico_Descontinuados                 0.007899  0.011055  \n",
       "Servico_STREAMING_AUDIO_VIDEO          0.007267  0.011371  \n",
       "Servico_GestÃ£o Personalizada          0.169352  0.255212  \n",
       "Servico_WebStore                       0.005371  0.006001  \n",
       "Servico_Schedulista                    0.000000  0.000000  \n",
       "Servico_Independente Cloud - Dedicado  0.000000  0.004422  \n",
       "Servico_Parcerias                      0.000000  0.000000  \n",
       "Servico_SMTP                           0.121011  0.195515  \n",
       "Servico_WebChat                        0.000000  0.000000  \n",
       "Servico_PABX Virtual                   0.000000  0.000000  \n",
       "Servico_Servidor Dedicado              0.198104  0.244473  \n",
       "Servico_Backup de Sites                0.005371  0.018004  \n",
       "Servico_PABX Virtual                   0.176935  0.240051  "
      ]
     },
     "execution_count": 98,
     "metadata": {},
     "output_type": "execute_result"
    }
   ],
   "source": [
    "RESUMO.T"
   ]
  },
  {
   "cell_type": "markdown",
   "metadata": {},
   "source": [
    "# Aplicando na Base"
   ]
  },
  {
   "cell_type": "code",
   "execution_count": 35,
   "metadata": {
    "collapsed": true
   },
   "outputs": [],
   "source": [
    "fim_janela_feature = df_base.Instalacao.max()\n",
    "inicio_janela_churn = fim_janela_feature\n",
    "aux_janela_feature = fim_janela_feature+ relativedelta(months=-12)"
   ]
  },
  {
   "cell_type": "code",
   "execution_count": 36,
   "metadata": {
    "collapsed": true
   },
   "outputs": [],
   "source": [
    "df_treino = df_base[(df_base.Instalacao_AnoMes < fim_janela_feature)].copy()"
   ]
  },
  {
   "cell_type": "code",
   "execution_count": 37,
   "metadata": {
    "collapsed": true
   },
   "outputs": [],
   "source": [
    "grade = pd.date_range(start=aux_janela_feature, end=df_treino.Instalacao_AnoMes.max(), freq='MS', normalize=True)"
   ]
  },
  {
   "cell_type": "code",
   "execution_count": 38,
   "metadata": {
    "collapsed": false
   },
   "outputs": [],
   "source": [
    "agg_dict = {'nr_PrecoMensal' : 'sum'}\n",
    "df_historico_valor = df_treino[(df_treino.nr_PrecoMensal> 0) & (df_treino.Instalacao_AnoMes >= aux_janela_feature)].groupby(['cd_ChaveCliente', 'Instalacao_AnoMes']).agg(agg_dict)\n",
    "novo_indice = [(x, y) for x in df_historico_valor.index.levels[0] for y in grade]\n",
    "novo_indice = pd.MultiIndex.from_tuples(novo_indice, names=df_historico_valor.index.names)\n",
    "df_historico_valor = df_historico_valor.reindex(novo_indice, fill_value=0)\n",
    "df_historico_valor = df_historico_valor.unstack(level=-1)\n",
    "df_historico_valor.columns = df_historico_valor.columns.droplevel()\n",
    "colunas = ['vlr_m-1','vlr_m-2','vlr_m-3','vlr_m-4','vlr_m-5','vlr_m-6','vlr_m-7','vlr_m-8','vlr_m-9','vlr_m-10','vlr_m-11','vlr_m-12'] \n",
    "df_historico_valor.columns = colunas\n",
    "df_historico_valor['vlr_trim-1'] = [v1+v2+v3 for v1,v2,v3 in zip\n",
    "                                    (df_historico_valor['vlr_m-1'], \n",
    "                                     df_historico_valor['vlr_m-2'],  \n",
    "                                     df_historico_valor['vlr_m-3'])]\n",
    "df_historico_valor['vlr_trim-2'] = [v1+v2+v3 for v1,v2,v3 in zip\n",
    "                                    (df_historico_valor['vlr_m-4'], \n",
    "                                     df_historico_valor['vlr_m-5'],  \n",
    "                                     df_historico_valor['vlr_m-6'])]\n",
    "df_historico_valor['vlr_trim-3'] = [v1+v2+v3 for v1,v2,v3 in zip\n",
    "                                    (df_historico_valor['vlr_m-7'], \n",
    "                                     df_historico_valor['vlr_m-8'],  \n",
    "                                     df_historico_valor['vlr_m-9'])]\n",
    "df_historico_valor['vlr_trim-4'] = [v1+v2+v3 for v1,v2,v3 in zip\n",
    "                                    (df_historico_valor['vlr_m-10'], \n",
    "                                     df_historico_valor['vlr_m-11'],  \n",
    "                                     df_historico_valor['vlr_m-12'])]\n",
    "df_historico_valor['vlr_ano'] = [v1+v2+v3+v4 for v1,v2,v3,v4 in zip\n",
    "                                    (df_historico_valor['vlr_trim-1'], \n",
    "                                     df_historico_valor['vlr_trim-2'],  \n",
    "                                     df_historico_valor['vlr_trim-3'],\n",
    "                                     df_historico_valor['vlr_trim-4'])]"
   ]
  },
  {
   "cell_type": "code",
   "execution_count": 39,
   "metadata": {
    "collapsed": false
   },
   "outputs": [],
   "source": [
    "agg_dict = {'Provisioning' : 'count'}\n",
    "df_historico_qtd = df_treino[df_treino.Instalacao_AnoMes >= aux_janela_feature].groupby(['cd_ChaveCliente', 'Instalacao_AnoMes']).agg(agg_dict)\n",
    "novo_indice = [(x, y) for x in df_historico_qtd.index.levels[0] for y in grade]\n",
    "novo_indice = pd.MultiIndex.from_tuples(novo_indice, names=df_historico_qtd.index.names)\n",
    "df_historico_qtd = df_historico_qtd.reindex(novo_indice, fill_value=0)\n",
    "df_historico_qtd = df_historico_qtd.unstack(level=-1)\n",
    "df_historico_qtd.columns = df_historico_qtd.columns.droplevel()\n",
    "colunas_ts = [c for c in df_historico_qtd.columns if isinstance(c, pd.tslib.Timestamp)]\n",
    "colunas = ['qtd_m-1','qtd_m-2','qtd_m-3','qtd_m-4','qtd_m-5','qtd_m-6',\n",
    "           'qtd_m-7','qtd_m-8','qtd_m-9','qtd_m-10','qtd_m-11','qtd_m-12'] \n",
    "df_historico_qtd.columns = colunas\n",
    "df_historico_qtd['qtd_trim-1'] = [q1+q2+q3 for q1,q2,q3 in zip\n",
    "                                  (df_historico_qtd['qtd_m-1'],\n",
    "                                   df_historico_qtd['qtd_m-2'],\n",
    "                                   df_historico_qtd['qtd_m-3'])]\n",
    "df_historico_qtd['qtd_trim-2'] = [q1+q2+q3 for q1,q2,q3 in zip\n",
    "                                  (df_historico_qtd['qtd_m-4'], \n",
    "                                   df_historico_qtd['qtd_m-5'],  \n",
    "                                   df_historico_qtd['qtd_m-6'])]\n",
    "df_historico_qtd['qtd_trim-3'] = [q1+q2+q3 for q1,q2,q3 in zip\n",
    "                                  (df_historico_qtd['qtd_m-7'], \n",
    "                                   df_historico_qtd['qtd_m-8'],  \n",
    "                                   df_historico_qtd['qtd_m-9'])]\n",
    "df_historico_qtd['qtd_trim-4'] = [q1+q2+q3 for q1,q2,q3 in zip\n",
    "                                  (df_historico_qtd['qtd_m-10'], \n",
    "                                   df_historico_qtd['qtd_m-11'],  \n",
    "                                   df_historico_qtd['qtd_m-12'])]\n",
    "df_historico_qtd['qtd_ano'] = [v1+v2+v3+v4 for v1,v2,v3,v4 in zip\n",
    "                               (df_historico_qtd['qtd_trim-1'], \n",
    "                                df_historico_qtd['qtd_trim-2'],  \n",
    "                                df_historico_qtd['qtd_trim-3'],\n",
    "                                df_historico_qtd['qtd_trim-4'])]"
   ]
  },
  {
   "cell_type": "code",
   "execution_count": 40,
   "metadata": {
    "collapsed": true
   },
   "outputs": [],
   "source": [
    "df_historico = pd.concat([df_historico_valor, df_historico_qtd], axis=1)"
   ]
  },
  {
   "cell_type": "code",
   "execution_count": 41,
   "metadata": {
    "collapsed": false
   },
   "outputs": [],
   "source": [
    "df_treino['Periodicidade_Meses'] = [periodicidade(x) for x in df_treino.ds_Periodicidade]\n",
    "df_treino['idade_prov'] = [diff_month(fim_janela_feature, Inst) for Inst in df_treino.Instalacao_AnoMes]\n",
    "df_treino['idade_cli'] = [diff_month(fim_janela_feature, Inst) for Inst in df_treino.Primeiro_Servico_LW_AnoMes]\n",
    "df_treino['quantidade_renovacoes_prov'] = [int(id_prov/peri_mes) for \n",
    "                                           id_prov, peri_mes in zip (df_treino.idade_prov, df_treino.Periodicidade_Meses)]\n",
    "df_treino['Qtd_meses_P_renovacoes'] = [peri_mes-(idade_prov-qtd_renov*peri_mes) for\n",
    "                                       peri_mes,idade_prov,qtd_renov in \n",
    "                                       zip(df_treino.Periodicidade_Meses, \n",
    "                                           df_treino.idade_prov, \n",
    "                                           df_treino.quantidade_renovacoes_prov)]"
   ]
  },
  {
   "cell_type": "code",
   "execution_count": 42,
   "metadata": {
    "collapsed": false
   },
   "outputs": [],
   "source": [
    "df_treino = df_treino[~df_treino.Servico.isnull()].copy()\n",
    "lista = list(df_treino.Servico.unique())\n",
    "lista = ['Servico_' + str(i) for i in lista]\n",
    "dict_lista = {str(i): 'sum' for i in lista}\n",
    "ohe = ['Servico']\n",
    "colunas = ['cd_ChaveCliente', 'Servico']\n",
    "df_ohe_Servico = pd.get_dummies(df_treino[colunas], columns = ohe,)\n",
    "df_ohe_Servico = df_ohe_Servico.groupby('cd_ChaveCliente').agg(dict_lista)\n",
    "df_ohe_Servico.drop(df_ohe_Servico.columns[[0]], axis=1, inplace= True)\n",
    "###################################################################################\n",
    "\n",
    "###################################################################################\n",
    "df_treino = df_treino[~df_treino.ds_Periodicidade.isnull()].copy()\n",
    "lista = list(df_treino.ds_Periodicidade.unique())\n",
    "lista = ['ds_Periodicidade_' + str(i) for i in lista]\n",
    "dict_lista = {str(i): 'sum' for i in lista}\n",
    "ohe = ['ds_Periodicidade']\n",
    "colunas = ['cd_ChaveCliente', 'ds_Periodicidade']\n",
    "df_ohe_ds_Periodicidade = pd.get_dummies(df_treino[colunas], columns = ohe,)\n",
    "df_ohe_ds_Periodicidade = df_ohe_ds_Periodicidade.groupby('cd_ChaveCliente').agg(dict_lista)\n",
    "df_ohe_ds_Periodicidade.drop(df_ohe_ds_Periodicidade.columns[[0]], axis=1, inplace= True)\n",
    "###################################################################################\n",
    "\n",
    "###################################################################################\n",
    "df_treino = df_treino[~df_treino.Perfil.isnull()].copy()\n",
    "lista = list(df_treino.Perfil.unique())\n",
    "lista = ['Perfil_' + str(i) for i in lista]\n",
    "dict_lista = {str(i): 'sum' for i in lista}\n",
    "ohe = ['Perfil']\n",
    "colunas = ['cd_ChaveCliente', 'Perfil']\n",
    "df_ohe_Perfil = pd.get_dummies(df_treino[colunas], columns = ohe,)\n",
    "df_ohe_Perfil = df_ohe_Perfil.groupby('cd_ChaveCliente').agg(dict_lista)\n",
    "df_ohe_Perfil.drop(df_ohe_Perfil.columns[[0]], axis=1, inplace= True)\n",
    "###################################################################################\n",
    "\n",
    "###################################################################################\n",
    "df_treino = df_treino[~df_treino.classificacao.isnull()].copy()\n",
    "lista = list(df_treino.classificacao.unique())\n",
    "lista = ['classificacao_' + str(i) for i in lista]\n",
    "dict_lista = {str(i): 'sum' for i in lista}\n",
    "ohe = ['classificacao']\n",
    "colunas = ['cd_ChaveCliente', 'classificacao']\n",
    "df_ohe_classificacao = pd.get_dummies(df_treino[colunas], columns = ohe,)\n",
    "df_ohe_classificacao = df_ohe_classificacao.groupby('cd_ChaveCliente').agg(dict_lista)\n",
    "df_ohe_classificacao.drop(df_ohe_classificacao.columns[[0]], axis=1, inplace= True)\n",
    "###################################################################################\n",
    "\n",
    "###################################################################################\n",
    "df_treino = df_treino[~df_treino.Status.isnull()].copy()\n",
    "lista = list(df_treino.Status.unique())\n",
    "lista = ['Status_' + str(i) for i in lista]\n",
    "dict_lista = {str(i): 'sum' for i in lista}\n",
    "ohe = ['Status']\n",
    "colunas = ['cd_ChaveCliente', 'Status']\n",
    "df_ohe_Status = pd.get_dummies(df_treino[colunas], columns = ohe,)\n",
    "df_ohe_Status = df_ohe_Status.groupby('cd_ChaveCliente').agg(dict_lista)\n",
    "df_ohe_Status.drop(df_ohe_Status.columns[[0]], axis=1, inplace= True)\n",
    "###################################################################################\n",
    "\n",
    "###################################################################################\n",
    "df_treino['idade_prov_sum'] = df_treino.idade_prov\n",
    "df_treino['idade_cli_sum'] = df_treino.idade_cli\n",
    "df_treino['quantidade_renovacoes_prov_sum'] = df_treino.quantidade_renovacoes_prov\n",
    "df_treino['Qtd_meses_P_renovacoes_sum'] = df_treino.Qtd_meses_P_renovacoes\n",
    "dict_lista = {'Provisioning' : 'count',\n",
    "              'nr_PrecoMensal' : 'sum',\n",
    "              'fl_ServicoPai' : 'sum',\n",
    "              'fl_Dev' : 'sum',\n",
    "              'Data_Desativacao_flag' : 'sum',\n",
    "              'fl_GerenteConta' : 'sum',\n",
    "              'idade_prov' : 'mean',\n",
    "              'idade_cli' : 'mean',\n",
    "              'quantidade_renovacoes_prov' : 'mean',\n",
    "              'Qtd_meses_P_renovacoes' : 'mean',\n",
    "              'idade_prov_sum' : 'sum',\n",
    "              'idade_cli_sum' : 'sum',\n",
    "              'quantidade_renovacoes_prov_sum' : 'sum',\n",
    "              'Qtd_meses_P_renovacoes_sum' : 'sum',\n",
    "              'FlagChurn' : 'sum'}\n",
    "df_treino = df_treino.groupby('cd_ChaveCliente').agg(dict_lista)\n",
    "\n",
    "###################################################################################\n",
    "###################################################################################\n",
    "df_treino = pd.concat([df_treino, df_ohe_Servico, \n",
    "                       df_ohe_ds_Periodicidade, df_ohe_Perfil, \n",
    "                       df_ohe_classificacao, df_ohe_Status], axis=1)"
   ]
  },
  {
   "cell_type": "code",
   "execution_count": 43,
   "metadata": {
    "collapsed": false
   },
   "outputs": [],
   "source": [
    "df_treino = pd.concat([df_treino, df_historico], axis=1)"
   ]
  },
  {
   "cell_type": "code",
   "execution_count": 44,
   "metadata": {
    "collapsed": false
   },
   "outputs": [],
   "source": [
    "df_treino.reset_index(inplace= True)"
   ]
  },
  {
   "cell_type": "code",
   "execution_count": 45,
   "metadata": {
    "collapsed": true
   },
   "outputs": [],
   "source": [
    "df_treino.rename(columns= {'index': 'cd_ChaveCliente'}, inplace= True)"
   ]
  },
  {
   "cell_type": "code",
   "execution_count": 46,
   "metadata": {
    "collapsed": false
   },
   "outputs": [
    {
     "name": "stderr",
     "output_type": "stream",
     "text": [
      "D:\\Users\\felipe.santos\\AppData\\Local\\Continuum\\Anaconda3\\lib\\site-packages\\numpy\\lib\\function_base.py:3834: RuntimeWarning: Invalid value encountered in percentile\n",
      "  RuntimeWarning)\n"
     ]
    }
   ],
   "source": [
    "percentiles= [10,20,30,40,50,60,70,80,90]\n",
    "Perc = cria_curva(percentiles, df_treino.nr_PrecoMensal)\n",
    "df_treino['nr_PrecoMensal_curva'] = [marca_base(Perc, x) for x in df_treino.nr_PrecoMensal]"
   ]
  },
  {
   "cell_type": "code",
   "execution_count": 47,
   "metadata": {
    "collapsed": false
   },
   "outputs": [],
   "source": [
    "df_treino.fillna(0,inplace= True)"
   ]
  },
  {
   "cell_type": "code",
   "execution_count": 48,
   "metadata": {
    "collapsed": false
   },
   "outputs": [],
   "source": [
    "X = df_treino[Colunas_Modelo].copy()\n",
    "X = scaler.fit_transform(X)\n",
    "\n",
    "y_pred = clf.predict_proba(X)\n",
    "y_pred = pd.DataFrame(data=y_pred[:,1])\n",
    "y_pred.rename(columns= {0: 'Prob_Consumo'}, inplace= True)\n",
    "y_pred.shape\n",
    "\n",
    "df_treino = pd.concat([df_treino, y_pred], axis=1)"
   ]
  },
  {
   "cell_type": "code",
   "execution_count": 49,
   "metadata": {
    "collapsed": true
   },
   "outputs": [],
   "source": [
    "df_treino.sort_values(['Prob_Consumo'], ascending= 1 ,inplace=True)"
   ]
  },
  {
   "cell_type": "code",
   "execution_count": 50,
   "metadata": {
    "collapsed": true
   },
   "outputs": [],
   "source": [
    "df_treino.reset_index(inplace= True, drop= True)\n",
    "df_treino.reset_index(inplace= True)"
   ]
  },
  {
   "cell_type": "code",
   "execution_count": 51,
   "metadata": {
    "collapsed": true
   },
   "outputs": [],
   "source": [
    "df_treino.rename(columns= {'index': 'aux_cluster'}, inplace= True)"
   ]
  },
  {
   "cell_type": "code",
   "execution_count": 52,
   "metadata": {
    "collapsed": false
   },
   "outputs": [],
   "source": [
    "lista = [round(aux_Cluster[aux_Cluster.index == 1].Perc.max()*df_treino.aux_cluster.max(),0),\n",
    "         round(aux_Cluster[aux_Cluster.index == 2].Perc.max()*df_treino.aux_cluster.max(),0),\n",
    "         round(aux_Cluster[aux_Cluster.index == 3].Perc.max()*df_treino.aux_cluster.max(),0),\n",
    "         round(aux_Cluster[aux_Cluster.index == 4].Perc.max()*df_treino.aux_cluster.max(),0),\n",
    "         round(aux_Cluster[aux_Cluster.index == 5].Perc.max()*df_treino.aux_cluster.max(),0),\n",
    "         round(aux_Cluster[aux_Cluster.index == 6].Perc.max()*df_treino.aux_cluster.max(),0),\n",
    "         round(aux_Cluster[aux_Cluster.index == 7].Perc.max()*df_treino.aux_cluster.max(),0),\n",
    "         round(aux_Cluster[aux_Cluster.index == 8].Perc.max()*df_treino.aux_cluster.max(),0),\n",
    "         round(aux_Cluster[aux_Cluster.index == 9].Perc.max()*df_treino.aux_cluster.max(),0)]"
   ]
  },
  {
   "cell_type": "code",
   "execution_count": 53,
   "metadata": {
    "collapsed": true
   },
   "outputs": [],
   "source": [
    "lista[1] = lista[1] + lista[0]\n",
    "lista[2] = lista[2] + lista[1]\n",
    "lista[3] = lista[3] + lista[2]\n",
    "lista[4] = lista[4] + lista[3]\n",
    "lista[5] = lista[5] + lista[4]\n",
    "lista[6] = lista[6] + lista[5]\n",
    "lista[7] = lista[7] + lista[6]\n",
    "lista[8] = lista[8] + lista[7]"
   ]
  },
  {
   "cell_type": "code",
   "execution_count": 54,
   "metadata": {
    "collapsed": false
   },
   "outputs": [
    {
     "data": {
      "text/plain": [
       "[116111.0,\n",
       " 176695.0,\n",
       " 223833.0,\n",
       " 262550.0,\n",
       " 292844.0,\n",
       " 311357.0,\n",
       " 322297.0,\n",
       " 329029.0,\n",
       " 332395.0]"
      ]
     },
     "execution_count": 54,
     "metadata": {},
     "output_type": "execute_result"
    }
   ],
   "source": [
    "lista"
   ]
  },
  {
   "cell_type": "code",
   "execution_count": 55,
   "metadata": {
    "collapsed": true
   },
   "outputs": [],
   "source": [
    "df_treino['Cluster'] = [marca_base(lista, x) for x in df_treino.aux_cluster]"
   ]
  },
  {
   "cell_type": "code",
   "execution_count": 56,
   "metadata": {
    "collapsed": false
   },
   "outputs": [
    {
     "data": {
      "text/plain": [
       "1     116111\n",
       "2      60584\n",
       "3      47138\n",
       "4      38717\n",
       "5      30294\n",
       "6      18513\n",
       "7      10940\n",
       "8       6732\n",
       "10      4208\n",
       "9       3366\n",
       "Name: Cluster, dtype: int64"
      ]
     },
     "execution_count": 56,
     "metadata": {},
     "output_type": "execute_result"
    }
   ],
   "source": [
    "df_treino.Cluster.value_counts()"
   ]
  },
  {
   "cell_type": "code",
   "execution_count": 57,
   "metadata": {
    "collapsed": false
   },
   "outputs": [],
   "source": [
    "dict_lista = {'Prob_Consumo' : 'mean',\n",
    "              'Provisioning' : 'count',\n",
    "              'nr_PrecoMensal' : 'mean',\n",
    "              'fl_ServicoPai' : 'mean',\n",
    "              'fl_Dev' : 'mean',\n",
    "              'fl_GerenteConta' : 'mean',\n",
    "              'idade_prov' : 'mean',\n",
    "              'idade_cli' : 'mean',\n",
    "              'quantidade_renovacoes_prov' : 'mean',\n",
    "              'Qtd_meses_P_renovacoes' : 'mean',\n",
    "              'FlagChurn' : 'mean'}\n",
    "\n",
    "RESUMO = df_treino.groupby('Cluster').agg(dict_lista)\n",
    "#NomeCSV = 'Prob_Consumo_ResumoBaseAtiva.'+str(fim_janela_feature.year)+'_'+str(fim_janela_feature.month)+'_'+str(fim_janela_feature.day)+'.csv'\n",
    "#RESUMO.to_csv(NomeCSV)\n",
    "#RESUMO = pd.read_csv('./'+NomeCSV, error_bad_lines = False, sep=',')"
   ]
  },
  {
   "cell_type": "code",
   "execution_count": 58,
   "metadata": {
    "collapsed": false
   },
   "outputs": [
    {
     "data": {
      "text/html": [
       "<div>\n",
       "<table border=\"1\" class=\"dataframe\">\n",
       "  <thead>\n",
       "    <tr style=\"text-align: right;\">\n",
       "      <th></th>\n",
       "      <th>idade_cli</th>\n",
       "      <th>fl_ServicoPai</th>\n",
       "      <th>Prob_Consumo</th>\n",
       "      <th>idade_prov</th>\n",
       "      <th>FlagChurn</th>\n",
       "      <th>nr_PrecoMensal</th>\n",
       "      <th>quantidade_renovacoes_prov</th>\n",
       "      <th>Provisioning</th>\n",
       "      <th>fl_Dev</th>\n",
       "      <th>fl_GerenteConta</th>\n",
       "      <th>Qtd_meses_P_renovacoes</th>\n",
       "    </tr>\n",
       "    <tr>\n",
       "      <th>Cluster</th>\n",
       "      <th></th>\n",
       "      <th></th>\n",
       "      <th></th>\n",
       "      <th></th>\n",
       "      <th></th>\n",
       "      <th></th>\n",
       "      <th></th>\n",
       "      <th></th>\n",
       "      <th></th>\n",
       "      <th></th>\n",
       "      <th></th>\n",
       "    </tr>\n",
       "  </thead>\n",
       "  <tbody>\n",
       "    <tr>\n",
       "      <th>1</th>\n",
       "      <td>1.820405</td>\n",
       "      <td>0.043613</td>\n",
       "      <td>0.235261</td>\n",
       "      <td>0.976876</td>\n",
       "      <td>0.000000</td>\n",
       "      <td>1.227018</td>\n",
       "      <td>0.039436</td>\n",
       "      <td>116111</td>\n",
       "      <td>0.000732</td>\n",
       "      <td>0.000009</td>\n",
       "      <td>0.149736</td>\n",
       "    </tr>\n",
       "    <tr>\n",
       "      <th>2</th>\n",
       "      <td>38.886373</td>\n",
       "      <td>1.218490</td>\n",
       "      <td>0.435901</td>\n",
       "      <td>19.612455</td>\n",
       "      <td>0.000000</td>\n",
       "      <td>44.807555</td>\n",
       "      <td>2.535769</td>\n",
       "      <td>60584</td>\n",
       "      <td>0.018173</td>\n",
       "      <td>0.000264</td>\n",
       "      <td>5.649363</td>\n",
       "    </tr>\n",
       "    <tr>\n",
       "      <th>3</th>\n",
       "      <td>34.855714</td>\n",
       "      <td>1.402732</td>\n",
       "      <td>0.473061</td>\n",
       "      <td>16.013768</td>\n",
       "      <td>0.020684</td>\n",
       "      <td>60.832776</td>\n",
       "      <td>4.421500</td>\n",
       "      <td>47138</td>\n",
       "      <td>0.024736</td>\n",
       "      <td>0.000594</td>\n",
       "      <td>4.884626</td>\n",
       "    </tr>\n",
       "    <tr>\n",
       "      <th>4</th>\n",
       "      <td>45.388223</td>\n",
       "      <td>1.438231</td>\n",
       "      <td>0.528252</td>\n",
       "      <td>15.367905</td>\n",
       "      <td>0.287677</td>\n",
       "      <td>69.032041</td>\n",
       "      <td>5.993733</td>\n",
       "      <td>38717</td>\n",
       "      <td>0.043883</td>\n",
       "      <td>0.001240</td>\n",
       "      <td>5.229379</td>\n",
       "    </tr>\n",
       "    <tr>\n",
       "      <th>5</th>\n",
       "      <td>59.069789</td>\n",
       "      <td>2.126263</td>\n",
       "      <td>0.604971</td>\n",
       "      <td>20.161697</td>\n",
       "      <td>0.555391</td>\n",
       "      <td>128.520889</td>\n",
       "      <td>8.241099</td>\n",
       "      <td>30294</td>\n",
       "      <td>0.095200</td>\n",
       "      <td>0.005084</td>\n",
       "      <td>4.071797</td>\n",
       "    </tr>\n",
       "    <tr>\n",
       "      <th>6</th>\n",
       "      <td>63.267426</td>\n",
       "      <td>3.217253</td>\n",
       "      <td>0.672645</td>\n",
       "      <td>18.600722</td>\n",
       "      <td>1.002647</td>\n",
       "      <td>221.997561</td>\n",
       "      <td>7.758003</td>\n",
       "      <td>18513</td>\n",
       "      <td>0.248258</td>\n",
       "      <td>0.016205</td>\n",
       "      <td>4.004926</td>\n",
       "    </tr>\n",
       "    <tr>\n",
       "      <th>7</th>\n",
       "      <td>67.276752</td>\n",
       "      <td>4.476325</td>\n",
       "      <td>0.721707</td>\n",
       "      <td>17.104102</td>\n",
       "      <td>1.665905</td>\n",
       "      <td>340.194161</td>\n",
       "      <td>7.215333</td>\n",
       "      <td>10940</td>\n",
       "      <td>0.503108</td>\n",
       "      <td>0.074132</td>\n",
       "      <td>4.183503</td>\n",
       "    </tr>\n",
       "    <tr>\n",
       "      <th>8</th>\n",
       "      <td>74.281099</td>\n",
       "      <td>6.989602</td>\n",
       "      <td>0.766082</td>\n",
       "      <td>16.060864</td>\n",
       "      <td>2.839275</td>\n",
       "      <td>550.978060</td>\n",
       "      <td>6.532455</td>\n",
       "      <td>6732</td>\n",
       "      <td>1.105615</td>\n",
       "      <td>0.254456</td>\n",
       "      <td>4.123277</td>\n",
       "    </tr>\n",
       "    <tr>\n",
       "      <th>9</th>\n",
       "      <td>73.299334</td>\n",
       "      <td>7.237374</td>\n",
       "      <td>0.805853</td>\n",
       "      <td>14.688236</td>\n",
       "      <td>2.531491</td>\n",
       "      <td>732.488437</td>\n",
       "      <td>6.141924</td>\n",
       "      <td>3366</td>\n",
       "      <td>1.492276</td>\n",
       "      <td>0.461081</td>\n",
       "      <td>3.983623</td>\n",
       "    </tr>\n",
       "    <tr>\n",
       "      <th>10</th>\n",
       "      <td>82.380622</td>\n",
       "      <td>14.388308</td>\n",
       "      <td>0.859185</td>\n",
       "      <td>13.659423</td>\n",
       "      <td>4.521150</td>\n",
       "      <td>1417.205452</td>\n",
       "      <td>4.875576</td>\n",
       "      <td>4208</td>\n",
       "      <td>4.531606</td>\n",
       "      <td>2.089591</td>\n",
       "      <td>4.463772</td>\n",
       "    </tr>\n",
       "  </tbody>\n",
       "</table>\n",
       "</div>"
      ],
      "text/plain": [
       "         idade_cli  fl_ServicoPai  Prob_Consumo  idade_prov  FlagChurn  \\\n",
       "Cluster                                                                  \n",
       "1         1.820405       0.043613      0.235261    0.976876   0.000000   \n",
       "2        38.886373       1.218490      0.435901   19.612455   0.000000   \n",
       "3        34.855714       1.402732      0.473061   16.013768   0.020684   \n",
       "4        45.388223       1.438231      0.528252   15.367905   0.287677   \n",
       "5        59.069789       2.126263      0.604971   20.161697   0.555391   \n",
       "6        63.267426       3.217253      0.672645   18.600722   1.002647   \n",
       "7        67.276752       4.476325      0.721707   17.104102   1.665905   \n",
       "8        74.281099       6.989602      0.766082   16.060864   2.839275   \n",
       "9        73.299334       7.237374      0.805853   14.688236   2.531491   \n",
       "10       82.380622      14.388308      0.859185   13.659423   4.521150   \n",
       "\n",
       "         nr_PrecoMensal  quantidade_renovacoes_prov  Provisioning    fl_Dev  \\\n",
       "Cluster                                                                       \n",
       "1              1.227018                    0.039436        116111  0.000732   \n",
       "2             44.807555                    2.535769         60584  0.018173   \n",
       "3             60.832776                    4.421500         47138  0.024736   \n",
       "4             69.032041                    5.993733         38717  0.043883   \n",
       "5            128.520889                    8.241099         30294  0.095200   \n",
       "6            221.997561                    7.758003         18513  0.248258   \n",
       "7            340.194161                    7.215333         10940  0.503108   \n",
       "8            550.978060                    6.532455          6732  1.105615   \n",
       "9            732.488437                    6.141924          3366  1.492276   \n",
       "10          1417.205452                    4.875576          4208  4.531606   \n",
       "\n",
       "         fl_GerenteConta  Qtd_meses_P_renovacoes  \n",
       "Cluster                                           \n",
       "1               0.000009                0.149736  \n",
       "2               0.000264                5.649363  \n",
       "3               0.000594                4.884626  \n",
       "4               0.001240                5.229379  \n",
       "5               0.005084                4.071797  \n",
       "6               0.016205                4.004926  \n",
       "7               0.074132                4.183503  \n",
       "8               0.254456                4.123277  \n",
       "9               0.461081                3.983623  \n",
       "10              2.089591                4.463772  "
      ]
     },
     "execution_count": 58,
     "metadata": {},
     "output_type": "execute_result"
    }
   ],
   "source": [
    "RESUMO"
   ]
  },
  {
   "cell_type": "code",
   "execution_count": null,
   "metadata": {
    "collapsed": true
   },
   "outputs": [],
   "source": [
    "#NomeCSV = 'Prob_Consumo.'+str(fim_janela_feature.year)+'_'+str(fim_janela_feature.month)+'_'+str(fim_janela_feature.day)+'.csv'\n",
    "#df_treino[['Cluster','cd_ChaveCliente']].set_index(['Cluster']).to_csv(NomeCSV)"
   ]
  },
  {
   "cell_type": "code",
   "execution_count": null,
   "metadata": {
    "collapsed": true
   },
   "outputs": [],
   "source": [
    "#NomeCSV = '/home/felipe/Algoritmos_todosProdutos/BaseOriginal.'+str(fim_janela_feature.year)+'_'+str(fim_janela_feature.month)+'_'+str(fim_janela_feature.day)+'.csv'\n",
    "#df_base.to_csv(NomeCSV)"
   ]
  },
  {
   "cell_type": "code",
   "execution_count": null,
   "metadata": {
    "collapsed": true
   },
   "outputs": [],
   "source": []
  },
  {
   "cell_type": "code",
   "execution_count": null,
   "metadata": {
    "collapsed": true
   },
   "outputs": [],
   "source": []
  },
  {
   "cell_type": "code",
   "execution_count": null,
   "metadata": {
    "collapsed": true
   },
   "outputs": [],
   "source": []
  },
  {
   "cell_type": "code",
   "execution_count": null,
   "metadata": {
    "collapsed": true
   },
   "outputs": [],
   "source": []
  },
  {
   "cell_type": "code",
   "execution_count": null,
   "metadata": {
    "collapsed": true
   },
   "outputs": [],
   "source": []
  },
  {
   "cell_type": "code",
   "execution_count": null,
   "metadata": {
    "collapsed": true
   },
   "outputs": [],
   "source": []
  },
  {
   "cell_type": "code",
   "execution_count": null,
   "metadata": {
    "collapsed": true
   },
   "outputs": [],
   "source": []
  },
  {
   "cell_type": "code",
   "execution_count": null,
   "metadata": {
    "collapsed": true
   },
   "outputs": [],
   "source": []
  },
  {
   "cell_type": "code",
   "execution_count": null,
   "metadata": {
    "collapsed": true
   },
   "outputs": [],
   "source": []
  },
  {
   "cell_type": "code",
   "execution_count": null,
   "metadata": {
    "collapsed": true
   },
   "outputs": [],
   "source": []
  },
  {
   "cell_type": "code",
   "execution_count": null,
   "metadata": {
    "collapsed": true
   },
   "outputs": [],
   "source": []
  },
  {
   "cell_type": "code",
   "execution_count": null,
   "metadata": {
    "collapsed": true
   },
   "outputs": [],
   "source": []
  }
 ],
 "metadata": {
  "anaconda-cloud": {},
  "kernelspec": {
   "display_name": "Python [default]",
   "language": "python",
   "name": "python3"
  },
  "language_info": {
   "codemirror_mode": {
    "name": "ipython",
    "version": 3
   },
   "file_extension": ".py",
   "mimetype": "text/x-python",
   "name": "python",
   "nbconvert_exporter": "python",
   "pygments_lexer": "ipython3",
   "version": "3.5.2"
  }
 },
 "nbformat": 4,
 "nbformat_minor": 1
}
